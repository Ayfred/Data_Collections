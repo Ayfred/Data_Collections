{
 "cells": [
  {
   "cell_type": "code",
   "execution_count": 1,
   "metadata": {},
   "outputs": [
    {
     "name": "stdout",
     "output_type": "stream",
     "text": [
      "Collecting instagrapi\n",
      "  Downloading instagrapi-1.16.41.tar.gz (86 kB)\n",
      "     ---------------------------------------- 0.0/86.5 kB ? eta -:--:--\n",
      "     ---------------------------------------- 86.5/86.5 kB 2.5 MB/s eta 0:00:00\n",
      "  Preparing metadata (setup.py): started\n",
      "  Preparing metadata (setup.py): finished with status 'done'\n",
      "Requirement already satisfied: requests<3.0,>=2.25.1 in d:\\program fil\\python\\python311\\lib\\site-packages (from instagrapi) (2.28.2)\n",
      "Requirement already satisfied: PySocks==1.7.1 in d:\\program fil\\python\\python311\\lib\\site-packages (from instagrapi) (1.7.1)\n",
      "Collecting pydantic==1.10.2\n",
      "  Downloading pydantic-1.10.2-cp311-cp311-win_amd64.whl (2.1 MB)\n",
      "     ---------------------------------------- 0.0/2.1 MB ? eta -:--:--\n",
      "     -------- ------------------------------- 0.5/2.1 MB 14.2 MB/s eta 0:00:01\n",
      "     ---------------------------- ----------- 1.5/2.1 MB 18.5 MB/s eta 0:00:01\n",
      "     ---------------------------------------- 2.1/2.1 MB 16.3 MB/s eta 0:00:00\n",
      "Collecting pycryptodomex==3.17\n",
      "  Downloading pycryptodomex-3.17-cp35-abi3-win_amd64.whl (1.7 MB)\n",
      "     ---------------------------------------- 0.0/1.7 MB ? eta -:--:--\n",
      "     --------- ------------------------------ 0.4/1.7 MB 25.6 MB/s eta 0:00:01\n",
      "     --------------------------------- ------ 1.5/1.7 MB 18.6 MB/s eta 0:00:01\n",
      "     ---------------------------------------  1.7/1.7 MB 15.8 MB/s eta 0:00:01\n",
      "     ---------------------------------------- 1.7/1.7 MB 10.0 MB/s eta 0:00:00\n",
      "Requirement already satisfied: typing-extensions>=4.1.0 in d:\\program fil\\python\\python311\\lib\\site-packages (from pydantic==1.10.2->instagrapi) (4.4.0)\n",
      "Requirement already satisfied: charset-normalizer<4,>=2 in d:\\program fil\\python\\python311\\lib\\site-packages (from requests<3.0,>=2.25.1->instagrapi) (2.1.1)\n",
      "Requirement already satisfied: idna<4,>=2.5 in d:\\program fil\\python\\python311\\lib\\site-packages (from requests<3.0,>=2.25.1->instagrapi) (3.4)\n",
      "Requirement already satisfied: urllib3<1.27,>=1.21.1 in d:\\program fil\\python\\python311\\lib\\site-packages (from requests<3.0,>=2.25.1->instagrapi) (1.26.14)\n",
      "Requirement already satisfied: certifi>=2017.4.17 in d:\\program fil\\python\\python311\\lib\\site-packages (from requests<3.0,>=2.25.1->instagrapi) (2022.12.7)\n",
      "Installing collected packages: pydantic, pycryptodomex, instagrapi\n",
      "  Attempting uninstall: pydantic\n",
      "    Found existing installation: pydantic 1.10.4\n",
      "    Uninstalling pydantic-1.10.4:\n",
      "      Successfully uninstalled pydantic-1.10.4\n",
      "  Running setup.py install for instagrapi: started\n",
      "  Running setup.py install for instagrapi: finished with status 'done'\n",
      "Successfully installed instagrapi-1.16.41 pycryptodomex-3.17 pydantic-1.10.2\n"
     ]
    },
    {
     "name": "stderr",
     "output_type": "stream",
     "text": [
      "  DEPRECATION: instagrapi is being installed using the legacy 'setup.py install' method, because it does not have a 'pyproject.toml' and the 'wheel' package is not installed. pip 23.1 will enforce this behaviour change. A possible replacement is to enable the '--use-pep517' option. Discussion can be found at https://github.com/pypa/pip/issues/8559\n"
     ]
    }
   ],
   "source": [
    "!pip install instagrapi"
   ]
  },
  {
   "cell_type": "code",
   "execution_count": 4,
   "metadata": {},
   "outputs": [],
   "source": [
    "from instagrapi import Client\n",
    "\n",
    "cl = Client()\n",
    "cl.login(\"ouigogo30100\", \"ouigogogo30100\")\n",
    "\n",
    "user_id = cl.user_id_from_username(\"ouigogo30100\")\n",
    "medias = cl.user_medias(user_id, 20)"
   ]
  },
  {
   "cell_type": "code",
   "execution_count": null,
   "metadata": {},
   "outputs": [],
   "source": [
    "media_id = cl.media_id(cl.media_pk_from_url('https://www.instagram.com/p/ByU3LAslgWY/'))"
   ]
  }
 ],
 "metadata": {
  "kernelspec": {
   "display_name": "Python 3",
   "language": "python",
   "name": "python3"
  },
  "language_info": {
   "codemirror_mode": {
    "name": "ipython",
    "version": 3
   },
   "file_extension": ".py",
   "mimetype": "text/x-python",
   "name": "python",
   "nbconvert_exporter": "python",
   "pygments_lexer": "ipython3",
   "version": "3.11.0"
  },
  "orig_nbformat": 4,
  "vscode": {
   "interpreter": {
    "hash": "2a805c939253dd78ab80805c33908398d8b908c1d768f626811873916a950a6f"
   }
  }
 },
 "nbformat": 4,
 "nbformat_minor": 2
}
