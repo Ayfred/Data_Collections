{
 "cells": [
  {
   "cell_type": "code",
   "execution_count": 3,
   "metadata": {},
   "outputs": [],
   "source": [
    "import requests\n",
    "import json"
   ]
  },
  {
   "cell_type": "code",
   "execution_count": 4,
   "metadata": {},
   "outputs": [],
   "source": [
    "domain = \"https://graph.facebook.com/v9.0/\""
   ]
  },
  {
   "cell_type": "code",
   "execution_count": 5,
   "metadata": {},
   "outputs": [],
   "source": [
    "my_insta_id = \"1877719859287903\" # make sure you repmace the instagram id with your own intagram id"
   ]
  },
  {
   "cell_type": "code",
   "execution_count": 6,
   "metadata": {},
   "outputs": [],
   "source": [
    "part_A = \"?fields=business_discovery.username(\"\n",
    "\n",
    "part_B_List = [\"justinbieber\", \"selenagomez\", \"nickiminaj\", \"willsmith\"]\n",
    "\n",
    "part_C = \"){media{caption,media_url}}&\""
   ]
  },
  {
   "cell_type": "code",
   "execution_count": 7,
   "metadata": {},
   "outputs": [
    {
     "name": "stdout",
     "output_type": "stream",
     "text": [
      "[[''], [''], [''], ['']]\n"
     ]
    }
   ],
   "source": [
    "acces_token = \"access_token=EAANqZCMPrxpQBAI2ZBqOC62vy8hPlgAXCiSsVR9ZAP5uhcazuZBFzJBiJfUxR0Bl8pQMe31mHAz9K2FWdqIPDazZBrSlPRnHQoEZChRO8ejYbdF21ZCzEze2oBA7HZAywecULkVgR0oiaK5rtxfFrP6ZAjBGoENlxoZCcYxizIR3xav6U00PKSVhTU3mZCtMdDPxnsDUX8OoUYiUAZDZD\" # make sure you dont delete: access_token=\n",
    "\n",
    "box = []\n",
    "i = 0\n",
    "while i < len(part_B_List):\n",
    "\n",
    "    try:           \n",
    "            url = domain + my_insta_id + part_A + part_B_List[i] + part_C + acces_token\n",
    "            \n",
    "            data = requests.get( url )\n",
    "            \n",
    "            link = [json.loads( data.content )][0]['business_discovery']['media']['data'][0]['media_url']\n",
    "            \n",
    "            caption = [json.loads( data.content )][0]['business_discovery']['media']['data'][0]['caption']\n",
    "            box.append ([link, caption]) \n",
    "            i+=1\n",
    "            \n",
    "    except KeyError:\n",
    "        box.append([\"\"])\n",
    "        i+=1\n",
    "print(box)"
   ]
  },
  {
   "cell_type": "code",
   "execution_count": 28,
   "metadata": {},
   "outputs": [],
   "source": [
    "def getCreds():\n",
    "    creds = dict()\n",
    "    creds['access_token'] ='EAANqZCMPrxpQBAI2ZBqOC62vy8hPlgAXCiSsVR9ZAP5uhcazuZBFzJBiJfUxR0Bl8pQMe31mHAz9K2FWdqIPDazZBrSlPRnHQoEZChRO8ejYbdF21ZCzEze2oBA7HZAywecULkVgR0oiaK5rtxfFrP6ZAjBGoENlxoZCcYxizIR3xav6U00PKSVhTU3mZCtMdDPxnsDUX8OoUYiUAZDZD'\n",
    "    creds['client_id'] = \"1877719859287903\"\n",
    "    creds['client_secret'] = 'aa1f263fa9f789498ed351befb0c06b7'\n",
    "    creds['graph_domain'] = 'https://graph.facebook.com'\n",
    "    creds['graph_version'] = 'v6.0'\n",
    "    creds['endpoint_base'] = creds['graph_domain'] + creds['graph_version'] + '/'\n",
    "    creds['debug'] = 'no'\n",
    "    creds['page_id'] = 'FB-PAGE-ID' # users page id\n",
    "    creds['instagram_account_id'] = '' #users instagram account id\n",
    "    creds['ig_username'] = 'maximm_u' #ig username\n",
    "\n",
    "    return creds"
   ]
  },
  {
   "cell_type": "code",
   "execution_count": 24,
   "metadata": {},
   "outputs": [],
   "source": [
    "def makeAPICall(url, endpointParams, debug ='no'):\n",
    "    data = requests.get(url, endpointParams)\n",
    "\n",
    "    response = dict()\n",
    "    response['url'] =url\n",
    "    response['endpointParams'] = endpointParams\n",
    "    response['endpoint_params_pretty'] = json.dumps( endpointParams, indent = 4)\n",
    "    response['json_data'] = json.loads(data.content)\n",
    "    response['json_data_pretty'] = json.dumps(response['json_data'], indent = 4)\n",
    "    \n",
    "\n",
    "    if('yes' == debug):\n",
    "        displayAPICallData(response)\n",
    "\n",
    "    return response\n"
   ]
  },
  {
   "cell_type": "code",
   "execution_count": 20,
   "metadata": {},
   "outputs": [],
   "source": [
    "def displayAPICallData(response):\n",
    "    print(\"\\nURL : \")\n",
    "    print(response['url'])\n",
    "    print(\"\\nEndpoint Params : \")\n",
    "    print(response['endpoint_params_pretty'])\n",
    "    print(\"\\nResponse : \")\n",
    "    print(response['json_data_pretty'])"
   ]
  },
  {
   "cell_type": "code",
   "execution_count": 13,
   "metadata": {},
   "outputs": [],
   "source": [
    "import datetime"
   ]
  },
  {
   "cell_type": "code",
   "execution_count": 19,
   "metadata": {},
   "outputs": [],
   "source": [
    "def debugAccessToken( params ) :\n",
    "\t\"\"\" Get info on an access token \n",
    "\t\n",
    "\tAPI Endpoint:\n",
    "\t\thttps://graph.facebook.com/debug_token?input_token={input-token}&access_token={valid-access-token}\n",
    "\tReturns:\n",
    "\t\tobject: data from the endpoint\n",
    "\t\"\"\"\n",
    "\n",
    "\tendpointParams = dict() # parameter to send to the endpoint\n",
    "\tendpointParams['input_token'] = params['access_token'] # input token is the access token\n",
    "\tendpointParams['access_token'] = params['access_token'] # access token to get debug info on\n",
    "\n",
    "\turl = params['graph_domain'] + '/debug_token' # endpoint url\n",
    "\n",
    "\treturn makeAPICall( url, endpointParams, params['debug'] ) # make the api call"
   ]
  },
  {
   "cell_type": "code",
   "execution_count": 29,
   "metadata": {},
   "outputs": [
    {
     "name": "stdout",
     "output_type": "stream",
     "text": [
      "\n",
      "URL : \n",
      "https://graph.facebook.com/debug_token\n",
      "\n",
      "Endpoint Params : \n",
      "{\n",
      "    \"input_token\": \"EAANqZCMPrxpQBAI2ZBqOC62vy8hPlgAXCiSsVR9ZAP5uhcazuZBFzJBiJfUxR0Bl8pQMe31mHAz9K2FWdqIPDazZBrSlPRnHQoEZChRO8ejYbdF21ZCzEze2oBA7HZAywecULkVgR0oiaK5rtxfFrP6ZAjBGoENlxoZCcYxizIR3xav6U00PKSVhTU3mZCtMdDPxnsDUX8OoUYiUAZDZD\",\n",
      "    \"access_token\": \"EAANqZCMPrxpQBAI2ZBqOC62vy8hPlgAXCiSsVR9ZAP5uhcazuZBFzJBiJfUxR0Bl8pQMe31mHAz9K2FWdqIPDazZBrSlPRnHQoEZChRO8ejYbdF21ZCzEze2oBA7HZAywecULkVgR0oiaK5rtxfFrP6ZAjBGoENlxoZCcYxizIR3xav6U00PKSVhTU3mZCtMdDPxnsDUX8OoUYiUAZDZD\"\n",
      "}\n",
      "\n",
      "Response : \n",
      "{\n",
      "    \"data\": {\n",
      "        \"app_id\": \"962058781443732\",\n",
      "        \"type\": \"USER\",\n",
      "        \"application\": \"PersonalProject\",\n",
      "        \"data_access_expires_at\": 1684088446,\n",
      "        \"expires_at\": 1676318400,\n",
      "        \"is_valid\": true,\n",
      "        \"scopes\": [\n",
      "            \"email\",\n",
      "            \"public_profile\"\n",
      "        ],\n",
      "        \"user_id\": \"1877719859287903\"\n",
      "    }\n",
      "}\n",
      "\n",
      "Data Access Expires at: \n",
      "2023-05-14 20:20:46\n",
      "\n",
      "Token Expires at: \n",
      "2023-02-13 21:00:00\n"
     ]
    }
   ],
   "source": [
    "params = getCreds() # get creds\n",
    "params['debug'] = 'yes' # set debug\n",
    "response = debugAccessToken( params ) # hit the api for some data!\n",
    "\n",
    "print(\"\\nData Access Expires at: \") # label\n",
    "print(datetime.datetime.fromtimestamp( response['json_data']['data']['data_access_expires_at'] )) # display out when the token expires\n",
    "\n",
    "print(\"\\nToken Expires at: \") # label\n",
    "print(datetime.datetime.fromtimestamp( response['json_data']['data']['expires_at'] )) # display out when the token expires"
   ]
  },
  {
   "cell_type": "code",
   "execution_count": 26,
   "metadata": {},
   "outputs": [],
   "source": [
    "def getLongLivedAccessToken( params ) :\n",
    "\t\"\"\" Get long lived access token\n",
    "\t\n",
    "\tAPI Endpoint:\n",
    "\t\thttps://graph.facebook.com/{graph-api-version}/oauth/access_token?grant_type=fb_exchange_token&client_id={app-id}&client_secret={app-secret}&fb_exchange_token={your-access-token}\n",
    "\tReturns:\n",
    "\t\tobject: data from the endpoint\n",
    "\t\"\"\"\n",
    "\n",
    "\tendpointParams = dict() # parameter to send to the endpoint\n",
    "\tendpointParams['grant_type'] = 'fb_exchange_token' # tell facebook we want to exchange token\n",
    "\tendpointParams['client_id'] = params['client_id'] # client id from facebook app\n",
    "\tendpointParams['client_secret'] = params['client_secret'] # client secret from facebook app\n",
    "\tendpointParams['fb_exchange_token'] = params['access_token'] # access token to get exchange for a long lived token\n",
    "\n",
    "\turl = params['endpoint_base'] + 'oauth/access_token' # endpoint url\n",
    "\n",
    "\treturn makeAPICall( url, endpointParams, params['debug'] ) # make the api call"
   ]
  },
  {
   "cell_type": "code",
   "execution_count": 30,
   "metadata": {},
   "outputs": [
    {
     "ename": "ConnectionError",
     "evalue": "HTTPSConnectionPool(host='graph.facebook.comv6.0', port=443): Max retries exceeded with url: /oauth/access_token?grant_type=fb_exchange_token&client_id=1877719859287903&client_secret=aa1f263fa9f789498ed351befb0c06b7&fb_exchange_token=EAANqZCMPrxpQBAI2ZBqOC62vy8hPlgAXCiSsVR9ZAP5uhcazuZBFzJBiJfUxR0Bl8pQMe31mHAz9K2FWdqIPDazZBrSlPRnHQoEZChRO8ejYbdF21ZCzEze2oBA7HZAywecULkVgR0oiaK5rtxfFrP6ZAjBGoENlxoZCcYxizIR3xav6U00PKSVhTU3mZCtMdDPxnsDUX8OoUYiUAZDZD (Caused by NewConnectionError('<urllib3.connection.HTTPSConnection object at 0x000001280A067DD0>: Failed to establish a new connection: [Errno 11001] getaddrinfo failed'))",
     "output_type": "error",
     "traceback": [
      "\u001b[1;31m---------------------------------------------------------------------------\u001b[0m",
      "\u001b[1;31mgaierror\u001b[0m                                  Traceback (most recent call last)",
      "File \u001b[1;32md:\\Program Fil\\Python\\Python311\\Lib\\site-packages\\urllib3\\connection.py:174\u001b[0m, in \u001b[0;36mHTTPConnection._new_conn\u001b[1;34m(self)\u001b[0m\n\u001b[0;32m    173\u001b[0m \u001b[39mtry\u001b[39;00m:\n\u001b[1;32m--> 174\u001b[0m     conn \u001b[39m=\u001b[39m connection\u001b[39m.\u001b[39;49mcreate_connection(\n\u001b[0;32m    175\u001b[0m         (\u001b[39mself\u001b[39;49m\u001b[39m.\u001b[39;49m_dns_host, \u001b[39mself\u001b[39;49m\u001b[39m.\u001b[39;49mport), \u001b[39mself\u001b[39;49m\u001b[39m.\u001b[39;49mtimeout, \u001b[39m*\u001b[39;49m\u001b[39m*\u001b[39;49mextra_kw\n\u001b[0;32m    176\u001b[0m     )\n\u001b[0;32m    178\u001b[0m \u001b[39mexcept\u001b[39;00m SocketTimeout:\n",
      "File \u001b[1;32md:\\Program Fil\\Python\\Python311\\Lib\\site-packages\\urllib3\\util\\connection.py:72\u001b[0m, in \u001b[0;36mcreate_connection\u001b[1;34m(address, timeout, source_address, socket_options)\u001b[0m\n\u001b[0;32m     68\u001b[0m     \u001b[39mreturn\u001b[39;00m six\u001b[39m.\u001b[39mraise_from(\n\u001b[0;32m     69\u001b[0m         LocationParseError(\u001b[39mu\u001b[39m\u001b[39m\"\u001b[39m\u001b[39m'\u001b[39m\u001b[39m%s\u001b[39;00m\u001b[39m'\u001b[39m\u001b[39m, label empty or too long\u001b[39m\u001b[39m\"\u001b[39m \u001b[39m%\u001b[39m host), \u001b[39mNone\u001b[39;00m\n\u001b[0;32m     70\u001b[0m     )\n\u001b[1;32m---> 72\u001b[0m \u001b[39mfor\u001b[39;00m res \u001b[39min\u001b[39;00m socket\u001b[39m.\u001b[39;49mgetaddrinfo(host, port, family, socket\u001b[39m.\u001b[39;49mSOCK_STREAM):\n\u001b[0;32m     73\u001b[0m     af, socktype, proto, canonname, sa \u001b[39m=\u001b[39m res\n",
      "File \u001b[1;32md:\\Program Fil\\Python\\Python311\\Lib\\socket.py:961\u001b[0m, in \u001b[0;36mgetaddrinfo\u001b[1;34m(host, port, family, type, proto, flags)\u001b[0m\n\u001b[0;32m    960\u001b[0m addrlist \u001b[39m=\u001b[39m []\n\u001b[1;32m--> 961\u001b[0m \u001b[39mfor\u001b[39;00m res \u001b[39min\u001b[39;00m _socket\u001b[39m.\u001b[39;49mgetaddrinfo(host, port, family, \u001b[39mtype\u001b[39;49m, proto, flags):\n\u001b[0;32m    962\u001b[0m     af, socktype, proto, canonname, sa \u001b[39m=\u001b[39m res\n",
      "\u001b[1;31mgaierror\u001b[0m: [Errno 11001] getaddrinfo failed",
      "\nDuring handling of the above exception, another exception occurred:\n",
      "\u001b[1;31mNewConnectionError\u001b[0m                        Traceback (most recent call last)",
      "File \u001b[1;32md:\\Program Fil\\Python\\Python311\\Lib\\site-packages\\urllib3\\connectionpool.py:703\u001b[0m, in \u001b[0;36mHTTPConnectionPool.urlopen\u001b[1;34m(self, method, url, body, headers, retries, redirect, assert_same_host, timeout, pool_timeout, release_conn, chunked, body_pos, **response_kw)\u001b[0m\n\u001b[0;32m    702\u001b[0m \u001b[39m# Make the request on the httplib connection object.\u001b[39;00m\n\u001b[1;32m--> 703\u001b[0m httplib_response \u001b[39m=\u001b[39m \u001b[39mself\u001b[39;49m\u001b[39m.\u001b[39;49m_make_request(\n\u001b[0;32m    704\u001b[0m     conn,\n\u001b[0;32m    705\u001b[0m     method,\n\u001b[0;32m    706\u001b[0m     url,\n\u001b[0;32m    707\u001b[0m     timeout\u001b[39m=\u001b[39;49mtimeout_obj,\n\u001b[0;32m    708\u001b[0m     body\u001b[39m=\u001b[39;49mbody,\n\u001b[0;32m    709\u001b[0m     headers\u001b[39m=\u001b[39;49mheaders,\n\u001b[0;32m    710\u001b[0m     chunked\u001b[39m=\u001b[39;49mchunked,\n\u001b[0;32m    711\u001b[0m )\n\u001b[0;32m    713\u001b[0m \u001b[39m# If we're going to release the connection in ``finally:``, then\u001b[39;00m\n\u001b[0;32m    714\u001b[0m \u001b[39m# the response doesn't need to know about the connection. Otherwise\u001b[39;00m\n\u001b[0;32m    715\u001b[0m \u001b[39m# it will also try to release it and we'll have a double-release\u001b[39;00m\n\u001b[0;32m    716\u001b[0m \u001b[39m# mess.\u001b[39;00m\n",
      "File \u001b[1;32md:\\Program Fil\\Python\\Python311\\Lib\\site-packages\\urllib3\\connectionpool.py:386\u001b[0m, in \u001b[0;36mHTTPConnectionPool._make_request\u001b[1;34m(self, conn, method, url, timeout, chunked, **httplib_request_kw)\u001b[0m\n\u001b[0;32m    385\u001b[0m \u001b[39mtry\u001b[39;00m:\n\u001b[1;32m--> 386\u001b[0m     \u001b[39mself\u001b[39;49m\u001b[39m.\u001b[39;49m_validate_conn(conn)\n\u001b[0;32m    387\u001b[0m \u001b[39mexcept\u001b[39;00m (SocketTimeout, BaseSSLError) \u001b[39mas\u001b[39;00m e:\n\u001b[0;32m    388\u001b[0m     \u001b[39m# Py2 raises this as a BaseSSLError, Py3 raises it as socket timeout.\u001b[39;00m\n",
      "File \u001b[1;32md:\\Program Fil\\Python\\Python311\\Lib\\site-packages\\urllib3\\connectionpool.py:1042\u001b[0m, in \u001b[0;36mHTTPSConnectionPool._validate_conn\u001b[1;34m(self, conn)\u001b[0m\n\u001b[0;32m   1041\u001b[0m \u001b[39mif\u001b[39;00m \u001b[39mnot\u001b[39;00m \u001b[39mgetattr\u001b[39m(conn, \u001b[39m\"\u001b[39m\u001b[39msock\u001b[39m\u001b[39m\"\u001b[39m, \u001b[39mNone\u001b[39;00m):  \u001b[39m# AppEngine might not have  `.sock`\u001b[39;00m\n\u001b[1;32m-> 1042\u001b[0m     conn\u001b[39m.\u001b[39;49mconnect()\n\u001b[0;32m   1044\u001b[0m \u001b[39mif\u001b[39;00m \u001b[39mnot\u001b[39;00m conn\u001b[39m.\u001b[39mis_verified:\n",
      "File \u001b[1;32md:\\Program Fil\\Python\\Python311\\Lib\\site-packages\\urllib3\\connection.py:358\u001b[0m, in \u001b[0;36mHTTPSConnection.connect\u001b[1;34m(self)\u001b[0m\n\u001b[0;32m    356\u001b[0m \u001b[39mdef\u001b[39;00m \u001b[39mconnect\u001b[39m(\u001b[39mself\u001b[39m):\n\u001b[0;32m    357\u001b[0m     \u001b[39m# Add certificate verification\u001b[39;00m\n\u001b[1;32m--> 358\u001b[0m     \u001b[39mself\u001b[39m\u001b[39m.\u001b[39msock \u001b[39m=\u001b[39m conn \u001b[39m=\u001b[39m \u001b[39mself\u001b[39;49m\u001b[39m.\u001b[39;49m_new_conn()\n\u001b[0;32m    359\u001b[0m     hostname \u001b[39m=\u001b[39m \u001b[39mself\u001b[39m\u001b[39m.\u001b[39mhost\n",
      "File \u001b[1;32md:\\Program Fil\\Python\\Python311\\Lib\\site-packages\\urllib3\\connection.py:186\u001b[0m, in \u001b[0;36mHTTPConnection._new_conn\u001b[1;34m(self)\u001b[0m\n\u001b[0;32m    185\u001b[0m \u001b[39mexcept\u001b[39;00m SocketError \u001b[39mas\u001b[39;00m e:\n\u001b[1;32m--> 186\u001b[0m     \u001b[39mraise\u001b[39;00m NewConnectionError(\n\u001b[0;32m    187\u001b[0m         \u001b[39mself\u001b[39m, \u001b[39m\"\u001b[39m\u001b[39mFailed to establish a new connection: \u001b[39m\u001b[39m%s\u001b[39;00m\u001b[39m\"\u001b[39m \u001b[39m%\u001b[39m e\n\u001b[0;32m    188\u001b[0m     )\n\u001b[0;32m    190\u001b[0m \u001b[39mreturn\u001b[39;00m conn\n",
      "\u001b[1;31mNewConnectionError\u001b[0m: <urllib3.connection.HTTPSConnection object at 0x000001280A067DD0>: Failed to establish a new connection: [Errno 11001] getaddrinfo failed",
      "\nDuring handling of the above exception, another exception occurred:\n",
      "\u001b[1;31mMaxRetryError\u001b[0m                             Traceback (most recent call last)",
      "File \u001b[1;32md:\\Program Fil\\Python\\Python311\\Lib\\site-packages\\requests\\adapters.py:489\u001b[0m, in \u001b[0;36mHTTPAdapter.send\u001b[1;34m(self, request, stream, timeout, verify, cert, proxies)\u001b[0m\n\u001b[0;32m    488\u001b[0m \u001b[39mif\u001b[39;00m \u001b[39mnot\u001b[39;00m chunked:\n\u001b[1;32m--> 489\u001b[0m     resp \u001b[39m=\u001b[39m conn\u001b[39m.\u001b[39;49murlopen(\n\u001b[0;32m    490\u001b[0m         method\u001b[39m=\u001b[39;49mrequest\u001b[39m.\u001b[39;49mmethod,\n\u001b[0;32m    491\u001b[0m         url\u001b[39m=\u001b[39;49murl,\n\u001b[0;32m    492\u001b[0m         body\u001b[39m=\u001b[39;49mrequest\u001b[39m.\u001b[39;49mbody,\n\u001b[0;32m    493\u001b[0m         headers\u001b[39m=\u001b[39;49mrequest\u001b[39m.\u001b[39;49mheaders,\n\u001b[0;32m    494\u001b[0m         redirect\u001b[39m=\u001b[39;49m\u001b[39mFalse\u001b[39;49;00m,\n\u001b[0;32m    495\u001b[0m         assert_same_host\u001b[39m=\u001b[39;49m\u001b[39mFalse\u001b[39;49;00m,\n\u001b[0;32m    496\u001b[0m         preload_content\u001b[39m=\u001b[39;49m\u001b[39mFalse\u001b[39;49;00m,\n\u001b[0;32m    497\u001b[0m         decode_content\u001b[39m=\u001b[39;49m\u001b[39mFalse\u001b[39;49;00m,\n\u001b[0;32m    498\u001b[0m         retries\u001b[39m=\u001b[39;49m\u001b[39mself\u001b[39;49m\u001b[39m.\u001b[39;49mmax_retries,\n\u001b[0;32m    499\u001b[0m         timeout\u001b[39m=\u001b[39;49mtimeout,\n\u001b[0;32m    500\u001b[0m     )\n\u001b[0;32m    502\u001b[0m \u001b[39m# Send the request.\u001b[39;00m\n\u001b[0;32m    503\u001b[0m \u001b[39melse\u001b[39;00m:\n",
      "File \u001b[1;32md:\\Program Fil\\Python\\Python311\\Lib\\site-packages\\urllib3\\connectionpool.py:787\u001b[0m, in \u001b[0;36mHTTPConnectionPool.urlopen\u001b[1;34m(self, method, url, body, headers, retries, redirect, assert_same_host, timeout, pool_timeout, release_conn, chunked, body_pos, **response_kw)\u001b[0m\n\u001b[0;32m    785\u001b[0m     e \u001b[39m=\u001b[39m ProtocolError(\u001b[39m\"\u001b[39m\u001b[39mConnection aborted.\u001b[39m\u001b[39m\"\u001b[39m, e)\n\u001b[1;32m--> 787\u001b[0m retries \u001b[39m=\u001b[39m retries\u001b[39m.\u001b[39;49mincrement(\n\u001b[0;32m    788\u001b[0m     method, url, error\u001b[39m=\u001b[39;49me, _pool\u001b[39m=\u001b[39;49m\u001b[39mself\u001b[39;49m, _stacktrace\u001b[39m=\u001b[39;49msys\u001b[39m.\u001b[39;49mexc_info()[\u001b[39m2\u001b[39;49m]\n\u001b[0;32m    789\u001b[0m )\n\u001b[0;32m    790\u001b[0m retries\u001b[39m.\u001b[39msleep()\n",
      "File \u001b[1;32md:\\Program Fil\\Python\\Python311\\Lib\\site-packages\\urllib3\\util\\retry.py:592\u001b[0m, in \u001b[0;36mRetry.increment\u001b[1;34m(self, method, url, response, error, _pool, _stacktrace)\u001b[0m\n\u001b[0;32m    591\u001b[0m \u001b[39mif\u001b[39;00m new_retry\u001b[39m.\u001b[39mis_exhausted():\n\u001b[1;32m--> 592\u001b[0m     \u001b[39mraise\u001b[39;00m MaxRetryError(_pool, url, error \u001b[39mor\u001b[39;00m ResponseError(cause))\n\u001b[0;32m    594\u001b[0m log\u001b[39m.\u001b[39mdebug(\u001b[39m\"\u001b[39m\u001b[39mIncremented Retry for (url=\u001b[39m\u001b[39m'\u001b[39m\u001b[39m%s\u001b[39;00m\u001b[39m'\u001b[39m\u001b[39m): \u001b[39m\u001b[39m%r\u001b[39;00m\u001b[39m\"\u001b[39m, url, new_retry)\n",
      "\u001b[1;31mMaxRetryError\u001b[0m: HTTPSConnectionPool(host='graph.facebook.comv6.0', port=443): Max retries exceeded with url: /oauth/access_token?grant_type=fb_exchange_token&client_id=1877719859287903&client_secret=aa1f263fa9f789498ed351befb0c06b7&fb_exchange_token=EAANqZCMPrxpQBAI2ZBqOC62vy8hPlgAXCiSsVR9ZAP5uhcazuZBFzJBiJfUxR0Bl8pQMe31mHAz9K2FWdqIPDazZBrSlPRnHQoEZChRO8ejYbdF21ZCzEze2oBA7HZAywecULkVgR0oiaK5rtxfFrP6ZAjBGoENlxoZCcYxizIR3xav6U00PKSVhTU3mZCtMdDPxnsDUX8OoUYiUAZDZD (Caused by NewConnectionError('<urllib3.connection.HTTPSConnection object at 0x000001280A067DD0>: Failed to establish a new connection: [Errno 11001] getaddrinfo failed'))",
      "\nDuring handling of the above exception, another exception occurred:\n",
      "\u001b[1;31mConnectionError\u001b[0m                           Traceback (most recent call last)",
      "Cell \u001b[1;32mIn[30], line 3\u001b[0m\n\u001b[0;32m      1\u001b[0m params \u001b[39m=\u001b[39m getCreds() \u001b[39m# get creds\u001b[39;00m\n\u001b[0;32m      2\u001b[0m params[\u001b[39m'\u001b[39m\u001b[39mdebug\u001b[39m\u001b[39m'\u001b[39m] \u001b[39m=\u001b[39m \u001b[39m'\u001b[39m\u001b[39myes\u001b[39m\u001b[39m'\u001b[39m \u001b[39m# set debug\u001b[39;00m\n\u001b[1;32m----> 3\u001b[0m response \u001b[39m=\u001b[39m getLongLivedAccessToken( params ) \u001b[39m# hit the api for some data!\u001b[39;00m\n\u001b[0;32m      5\u001b[0m \u001b[39mprint\u001b[39m(\u001b[39m\"\u001b[39m\u001b[39m\\n\u001b[39;00m\u001b[39m ---- ACCESS TOKEN INFO ----\u001b[39m\u001b[39m\\n\u001b[39;00m\u001b[39m\"\u001b[39m) \u001b[39m# section header\u001b[39;00m\n\u001b[0;32m      6\u001b[0m \u001b[39mprint\u001b[39m(\u001b[39m\"\u001b[39m\u001b[39mAccess Token:\u001b[39m\u001b[39m\"\u001b[39m)  \u001b[39m# label\u001b[39;00m\n",
      "Cell \u001b[1;32mIn[26], line 18\u001b[0m, in \u001b[0;36mgetLongLivedAccessToken\u001b[1;34m(params)\u001b[0m\n\u001b[0;32m     14\u001b[0m endpointParams[\u001b[39m'\u001b[39m\u001b[39mfb_exchange_token\u001b[39m\u001b[39m'\u001b[39m] \u001b[39m=\u001b[39m params[\u001b[39m'\u001b[39m\u001b[39maccess_token\u001b[39m\u001b[39m'\u001b[39m] \u001b[39m# access token to get exchange for a long lived token\u001b[39;00m\n\u001b[0;32m     16\u001b[0m url \u001b[39m=\u001b[39m params[\u001b[39m'\u001b[39m\u001b[39mendpoint_base\u001b[39m\u001b[39m'\u001b[39m] \u001b[39m+\u001b[39m \u001b[39m'\u001b[39m\u001b[39moauth/access_token\u001b[39m\u001b[39m'\u001b[39m \u001b[39m# endpoint url\u001b[39;00m\n\u001b[1;32m---> 18\u001b[0m \u001b[39mreturn\u001b[39;00m makeAPICall( url, endpointParams, params[\u001b[39m'\u001b[39;49m\u001b[39mdebug\u001b[39;49m\u001b[39m'\u001b[39;49m] )\n",
      "Cell \u001b[1;32mIn[24], line 2\u001b[0m, in \u001b[0;36mmakeAPICall\u001b[1;34m(url, endpointParams, debug)\u001b[0m\n\u001b[0;32m      1\u001b[0m \u001b[39mdef\u001b[39;00m \u001b[39mmakeAPICall\u001b[39m(url, endpointParams, debug \u001b[39m=\u001b[39m\u001b[39m'\u001b[39m\u001b[39mno\u001b[39m\u001b[39m'\u001b[39m):\n\u001b[1;32m----> 2\u001b[0m     data \u001b[39m=\u001b[39m requests\u001b[39m.\u001b[39;49mget(url, endpointParams)\n\u001b[0;32m      4\u001b[0m     response \u001b[39m=\u001b[39m \u001b[39mdict\u001b[39m()\n\u001b[0;32m      5\u001b[0m     response[\u001b[39m'\u001b[39m\u001b[39murl\u001b[39m\u001b[39m'\u001b[39m] \u001b[39m=\u001b[39murl\n",
      "File \u001b[1;32md:\\Program Fil\\Python\\Python311\\Lib\\site-packages\\requests\\api.py:73\u001b[0m, in \u001b[0;36mget\u001b[1;34m(url, params, **kwargs)\u001b[0m\n\u001b[0;32m     62\u001b[0m \u001b[39mdef\u001b[39;00m \u001b[39mget\u001b[39m(url, params\u001b[39m=\u001b[39m\u001b[39mNone\u001b[39;00m, \u001b[39m*\u001b[39m\u001b[39m*\u001b[39mkwargs):\n\u001b[0;32m     63\u001b[0m \u001b[39m    \u001b[39m\u001b[39mr\u001b[39m\u001b[39m\"\"\"Sends a GET request.\u001b[39;00m\n\u001b[0;32m     64\u001b[0m \n\u001b[0;32m     65\u001b[0m \u001b[39m    :param url: URL for the new :class:`Request` object.\u001b[39;00m\n\u001b[1;32m   (...)\u001b[0m\n\u001b[0;32m     70\u001b[0m \u001b[39m    :rtype: requests.Response\u001b[39;00m\n\u001b[0;32m     71\u001b[0m \u001b[39m    \"\"\"\u001b[39;00m\n\u001b[1;32m---> 73\u001b[0m     \u001b[39mreturn\u001b[39;00m request(\u001b[39m\"\u001b[39;49m\u001b[39mget\u001b[39;49m\u001b[39m\"\u001b[39;49m, url, params\u001b[39m=\u001b[39;49mparams, \u001b[39m*\u001b[39;49m\u001b[39m*\u001b[39;49mkwargs)\n",
      "File \u001b[1;32md:\\Program Fil\\Python\\Python311\\Lib\\site-packages\\requests\\api.py:59\u001b[0m, in \u001b[0;36mrequest\u001b[1;34m(method, url, **kwargs)\u001b[0m\n\u001b[0;32m     55\u001b[0m \u001b[39m# By using the 'with' statement we are sure the session is closed, thus we\u001b[39;00m\n\u001b[0;32m     56\u001b[0m \u001b[39m# avoid leaving sockets open which can trigger a ResourceWarning in some\u001b[39;00m\n\u001b[0;32m     57\u001b[0m \u001b[39m# cases, and look like a memory leak in others.\u001b[39;00m\n\u001b[0;32m     58\u001b[0m \u001b[39mwith\u001b[39;00m sessions\u001b[39m.\u001b[39mSession() \u001b[39mas\u001b[39;00m session:\n\u001b[1;32m---> 59\u001b[0m     \u001b[39mreturn\u001b[39;00m session\u001b[39m.\u001b[39;49mrequest(method\u001b[39m=\u001b[39;49mmethod, url\u001b[39m=\u001b[39;49murl, \u001b[39m*\u001b[39;49m\u001b[39m*\u001b[39;49mkwargs)\n",
      "File \u001b[1;32md:\\Program Fil\\Python\\Python311\\Lib\\site-packages\\requests\\sessions.py:587\u001b[0m, in \u001b[0;36mSession.request\u001b[1;34m(self, method, url, params, data, headers, cookies, files, auth, timeout, allow_redirects, proxies, hooks, stream, verify, cert, json)\u001b[0m\n\u001b[0;32m    582\u001b[0m send_kwargs \u001b[39m=\u001b[39m {\n\u001b[0;32m    583\u001b[0m     \u001b[39m\"\u001b[39m\u001b[39mtimeout\u001b[39m\u001b[39m\"\u001b[39m: timeout,\n\u001b[0;32m    584\u001b[0m     \u001b[39m\"\u001b[39m\u001b[39mallow_redirects\u001b[39m\u001b[39m\"\u001b[39m: allow_redirects,\n\u001b[0;32m    585\u001b[0m }\n\u001b[0;32m    586\u001b[0m send_kwargs\u001b[39m.\u001b[39mupdate(settings)\n\u001b[1;32m--> 587\u001b[0m resp \u001b[39m=\u001b[39m \u001b[39mself\u001b[39;49m\u001b[39m.\u001b[39;49msend(prep, \u001b[39m*\u001b[39;49m\u001b[39m*\u001b[39;49msend_kwargs)\n\u001b[0;32m    589\u001b[0m \u001b[39mreturn\u001b[39;00m resp\n",
      "File \u001b[1;32md:\\Program Fil\\Python\\Python311\\Lib\\site-packages\\requests\\sessions.py:701\u001b[0m, in \u001b[0;36mSession.send\u001b[1;34m(self, request, **kwargs)\u001b[0m\n\u001b[0;32m    698\u001b[0m start \u001b[39m=\u001b[39m preferred_clock()\n\u001b[0;32m    700\u001b[0m \u001b[39m# Send the request\u001b[39;00m\n\u001b[1;32m--> 701\u001b[0m r \u001b[39m=\u001b[39m adapter\u001b[39m.\u001b[39;49msend(request, \u001b[39m*\u001b[39;49m\u001b[39m*\u001b[39;49mkwargs)\n\u001b[0;32m    703\u001b[0m \u001b[39m# Total elapsed time of the request (approximately)\u001b[39;00m\n\u001b[0;32m    704\u001b[0m elapsed \u001b[39m=\u001b[39m preferred_clock() \u001b[39m-\u001b[39m start\n",
      "File \u001b[1;32md:\\Program Fil\\Python\\Python311\\Lib\\site-packages\\requests\\adapters.py:565\u001b[0m, in \u001b[0;36mHTTPAdapter.send\u001b[1;34m(self, request, stream, timeout, verify, cert, proxies)\u001b[0m\n\u001b[0;32m    561\u001b[0m     \u001b[39mif\u001b[39;00m \u001b[39misinstance\u001b[39m(e\u001b[39m.\u001b[39mreason, _SSLError):\n\u001b[0;32m    562\u001b[0m         \u001b[39m# This branch is for urllib3 v1.22 and later.\u001b[39;00m\n\u001b[0;32m    563\u001b[0m         \u001b[39mraise\u001b[39;00m SSLError(e, request\u001b[39m=\u001b[39mrequest)\n\u001b[1;32m--> 565\u001b[0m     \u001b[39mraise\u001b[39;00m \u001b[39mConnectionError\u001b[39;00m(e, request\u001b[39m=\u001b[39mrequest)\n\u001b[0;32m    567\u001b[0m \u001b[39mexcept\u001b[39;00m ClosedPoolError \u001b[39mas\u001b[39;00m e:\n\u001b[0;32m    568\u001b[0m     \u001b[39mraise\u001b[39;00m \u001b[39mConnectionError\u001b[39;00m(e, request\u001b[39m=\u001b[39mrequest)\n",
      "\u001b[1;31mConnectionError\u001b[0m: HTTPSConnectionPool(host='graph.facebook.comv6.0', port=443): Max retries exceeded with url: /oauth/access_token?grant_type=fb_exchange_token&client_id=1877719859287903&client_secret=aa1f263fa9f789498ed351befb0c06b7&fb_exchange_token=EAANqZCMPrxpQBAI2ZBqOC62vy8hPlgAXCiSsVR9ZAP5uhcazuZBFzJBiJfUxR0Bl8pQMe31mHAz9K2FWdqIPDazZBrSlPRnHQoEZChRO8ejYbdF21ZCzEze2oBA7HZAywecULkVgR0oiaK5rtxfFrP6ZAjBGoENlxoZCcYxizIR3xav6U00PKSVhTU3mZCtMdDPxnsDUX8OoUYiUAZDZD (Caused by NewConnectionError('<urllib3.connection.HTTPSConnection object at 0x000001280A067DD0>: Failed to establish a new connection: [Errno 11001] getaddrinfo failed'))"
     ]
    }
   ],
   "source": [
    "params = getCreds() # get creds\n",
    "params['debug'] = 'yes' # set debug\n",
    "response = getLongLivedAccessToken( params ) # hit the api for some data!\n",
    "\n",
    "print(\"\\n ---- ACCESS TOKEN INFO ----\\n\") # section header\n",
    "print(\"Access Token:\")  # label\n",
    "print(response['json_data']['access_token']) # display access token"
   ]
  }
 ],
 "metadata": {
  "kernelspec": {
   "display_name": "Python 3",
   "language": "python",
   "name": "python3"
  },
  "language_info": {
   "codemirror_mode": {
    "name": "ipython",
    "version": 3
   },
   "file_extension": ".py",
   "mimetype": "text/x-python",
   "name": "python",
   "nbconvert_exporter": "python",
   "pygments_lexer": "ipython3",
   "version": "3.11.0"
  },
  "orig_nbformat": 4,
  "vscode": {
   "interpreter": {
    "hash": "2a805c939253dd78ab80805c33908398d8b908c1d768f626811873916a950a6f"
   }
  }
 },
 "nbformat": 4,
 "nbformat_minor": 2
}
