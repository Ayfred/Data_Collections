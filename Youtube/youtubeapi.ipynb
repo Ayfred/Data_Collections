{
 "cells": [
  {
   "attachments": {},
   "cell_type": "markdown",
   "metadata": {},
   "source": [
    "Installation des bibliothèques"
   ]
  },
  {
   "cell_type": "code",
   "execution_count": null,
   "metadata": {},
   "outputs": [],
   "source": [
    "!pip install googleapiclient --upgrade"
   ]
  },
  {
   "attachments": {},
   "cell_type": "markdown",
   "metadata": {},
   "source": [
    "Imports des bibliothèques"
   ]
  },
  {
   "cell_type": "code",
   "execution_count": 25,
   "metadata": {},
   "outputs": [],
   "source": [
    "from googleapiclient.discovery import build\n",
    "import json"
   ]
  },
  {
   "attachments": {},
   "cell_type": "markdown",
   "metadata": {},
   "source": [
    "API keys credentials"
   ]
  },
  {
   "cell_type": "code",
   "execution_count": 37,
   "metadata": {},
   "outputs": [],
   "source": [
    "#read credentials\n",
    "f = open('credentials.json')\n",
    "data = json.load(f)\n",
    "f.close()\n",
    "\n",
    "api_key = data['api_key']\n",
    "youtube = build('youtube', 'v3', developerKey = api_key)"
   ]
  },
  {
   "attachments": {},
   "cell_type": "markdown",
   "metadata": {},
   "source": [
    "Recherche youtube"
   ]
  },
  {
   "cell_type": "code",
   "execution_count": 38,
   "metadata": {},
   "outputs": [],
   "source": [
    "request = youtube.search().list(\n",
    "        part=\"snippet\",\n",
    "        maxResults=50,\n",
    "        order=\"viewCount\",\n",
    "        q=\"chatgpt\"\n",
    "    )\n",
    "response = request.execute()"
   ]
  },
  {
   "attachments": {},
   "cell_type": "markdown",
   "metadata": {},
   "source": [
    "Stockage des identifiants des vidéos"
   ]
  },
  {
   "cell_type": "code",
   "execution_count": 28,
   "metadata": {},
   "outputs": [
    {
     "name": "stdout",
     "output_type": "stream",
     "text": [
      "['jPhJbKBuNnA', 'Sqa8Zo2XWc4', 'JTxsNm9IdYU', 'kh5dN72GTQ8', '7uljoeHgN4g', '0uQqMxXoNVs', 'sTeoEFzVNSc', 'rSCNW1OCk_M', '8I3NTE4cn5s', 'Nh5i5obZ8OY', 'WPBWIcprLxc', 'kuTTAuUorsI', 'iWhlrkfJrCQ', 'WizoCwjEKsg', 'JYtZ2zsdE_s', 'K7z0jlE61IM', 'gtgA4u8V_TQ', '_eHjifELI-k', 'wnNp-zT3JmY', 'ng438SIXyW4', 'AXn2XVLf7d0', 'BYGWMArFNRE', 'pOmpqdlVCoo', 'MIdv9ku1TfU', 'kPV4BgmoXz8', 'RCBZ-Xj2dgQ', 'QfrF_rwihyA', 'ey1kHYVu19c', 'kQPUWryXwag', 'AggvJLRqgDg', 'YNEb3EK4rNY', 'CtNsdVtQsf0', 'X6MykhFaP5U', 'Pi-5_eid7VA', 'pc8ftlzB2D0', 'Ku-I7KVmqdw', 'lGSGTrn5INA', 'UNbyT7wPwk4', '1EeYEkrlD8k', 'Fw5ybNwwSbg', '-WSQEyT2Mu0', 'Hrv4UP3wBRg', '40Kp_fa8vIw', 'qLh1GIPBXhc', '5MYJtKx-ebE', 'o5MutYFWsM8', 'y3iLOxBTuy4', '3vr3wcCAZbY', 'W3sk8gPpmcc', 'L6vW0um5XTg']\n"
     ]
    }
   ],
   "source": [
    "list_videos_id = []\n",
    "result_video_length = len(response['items'])\n",
    "\n",
    "for i in range(result_video_length):\n",
    "    list_videos_id.append(response['items'][i]['id']['videoId'])\n",
    "\n",
    "print(list_videos_id)"
   ]
  },
  {
   "attachments": {},
   "cell_type": "markdown",
   "metadata": {},
   "source": [
    "Génération des commentaires youtube de la première vidéo de la liste list_video_id"
   ]
  },
  {
   "cell_type": "code",
   "execution_count": 29,
   "metadata": {},
   "outputs": [],
   "source": [
    "request_comments = youtube.commentThreads().list(\n",
    "        part=\"snippet, replies\",\n",
    "        order=\"relevance\",\n",
    "        videoId= list_videos_id[0], \n",
    "        )\n",
    "response_comments = request_comments.execute()"
   ]
  },
  {
   "attachments": {},
   "cell_type": "markdown",
   "metadata": {},
   "source": [
    "Récupération des données des commentaires et de l'utilisateur"
   ]
  },
  {
   "cell_type": "code",
   "execution_count": 30,
   "metadata": {},
   "outputs": [],
   "source": [
    "videoId = response_comments['items'][0]['snippet']['topLevelComment']['snippet']['videoId']\n",
    "comment = response_comments['items'][0]['snippet']['topLevelComment']['snippet']['textOriginal']\n",
    "author = response_comments['items'][0]['snippet']['topLevelComment']['snippet']['authorDisplayName']\n",
    "authorChannelUrl = response_comments['items'][0]['snippet']['topLevelComment']['snippet']['authorChannelUrl']\n",
    "likeCount = response_comments['items'][0]['snippet']['topLevelComment']['snippet']['likeCount']\n",
    "publishedAt = response_comments['items'][0]['snippet']['topLevelComment']['snippet']['publishedAt']"
   ]
  },
  {
   "attachments": {},
   "cell_type": "markdown",
   "metadata": {},
   "source": [
    "Récupération des réponses aux commentaires et des données utilisateurs"
   ]
  },
  {
   "cell_type": "code",
   "execution_count": 31,
   "metadata": {},
   "outputs": [],
   "source": [
    "replies_response_snippet = response_comments['items'][0]['replies']['comments'][0]['snippet']\n",
    "replies_videoId = replies_response_snippet['videoId']\n",
    "replies_comment = replies_response_snippet['textOriginal']\n",
    "replies_author = replies_response_snippet['authorDisplayName']\n",
    "replies_authorChannelUrl = replies_response_snippet['authorChannelUrl']\n",
    "replies_likeCount = replies_response_snippet['likeCount']\n",
    "replies_publishedAt = replies_response_snippet['publishedAt']"
   ]
  },
  {
   "attachments": {},
   "cell_type": "markdown",
   "metadata": {},
   "source": [
    "Initialisation des listes"
   ]
  },
  {
   "cell_type": "code",
   "execution_count": 32,
   "metadata": {},
   "outputs": [],
   "source": [
    "videoId = []\n",
    "comment = []\n",
    "author = []\n",
    "authorChannelUrl = []\n",
    "likeCount = []\n",
    "publishedAt = []\n",
    "replies_videoId = []\n",
    "replies_comment = []\n",
    "replies_author = []\n",
    "replies_authorChannelUrl = []\n",
    "replies_likeCount = []\n",
    "replies_publishedAt = []"
   ]
  },
  {
   "attachments": {},
   "cell_type": "markdown",
   "metadata": {},
   "source": [
    "Récupération des données"
   ]
  },
  {
   "cell_type": "code",
   "execution_count": 33,
   "metadata": {},
   "outputs": [],
   "source": [
    "for id in list_videos_id:\n",
    "    request_comments = youtube.commentThreads().list(\n",
    "        part=\"snippet, replies\",\n",
    "        order=\"relevance\",\n",
    "        videoId= id, \n",
    "        )\n",
    "    response_comments = request_comments.execute()\n",
    "\n",
    "    nextPageToken = 0\n",
    "    for i in range(5):\n",
    "        nextPageToken = response_comments['nextPageToken']\n",
    "        response_count = len(response_comments['items'])\n",
    "        for j in range(response_count):\n",
    "            response_snippet = response_comments['items'][j]['snippet']['topLevelComment']['snippet']\n",
    "            videoId.append(response_snippet['videoId'])\n",
    "            comment.append(response_snippet['textOriginal'])\n",
    "            author.append(response_snippet['authorDisplayName'])\n",
    "            authorChannelUrl.append(response_snippet['authorChannelUrl'])\n",
    "            likeCount.append(response_snippet['likeCount'])\n",
    "            publishedAt.append(response_snippet['publishedAt'])\n",
    "            if \"replies\" in response_comments['items'][j]:\n",
    "                number_replies = len(response_comments['items'][j]['replies']['comments'])\n",
    "                for k in range(number_replies):\n",
    "                    replies_response_snippet = response_comments['items'][j]['replies']['comments'][k]['snippet']\n",
    "                    replies_videoId.append(replies_response_snippet['videoId'])\n",
    "                    replies_comment.append(replies_response_snippet['textOriginal'])\n",
    "                    replies_author.append(replies_response_snippet['authorDisplayName'])\n",
    "                    replies_authorChannelUrl.append(replies_response_snippet['authorChannelUrl'])\n",
    "                    replies_likeCount.append(replies_response_snippet['likeCount'])\n",
    "                    replies_publishedAt.append(replies_response_snippet['publishedAt'])\n",
    "        request_comments = youtube.commentThreads().list(part=\"snippet, replies\", order=\"relevance\", \n",
    "                                                         videoId=id, pageToken= nextPageToken)\n",
    "        response_comments = request_comments.execute()"
   ]
  },
  {
   "attachments": {},
   "cell_type": "markdown",
   "metadata": {},
   "source": [
    "Création d'un DataFrame pour le stockage de données"
   ]
  },
  {
   "cell_type": "code",
   "execution_count": 39,
   "metadata": {},
   "outputs": [],
   "source": [
    "import pandas as pd\n",
    "\n",
    "columns=['videoId','comment','author', 'authorChannelUrl', 'likeCount', 'publishedAt', 'replies_videoId', 'replies_comment',\n",
    "                            'replies_author', 'replies_authorChannelUrl', 'replies_likeCount', 'replies_publishedAt']\n",
    "df = pd.DataFrame(list(zip(videoId, comment, author, authorChannelUrl, likeCount, publishedAt, replies_videoId, replies_comment,\n",
    "                            replies_author, replies_authorChannelUrl, replies_likeCount, replies_publishedAt)),\n",
    "                 columns=columns )"
   ]
  },
  {
   "attachments": {},
   "cell_type": "markdown",
   "metadata": {},
   "source": [
    "Sauvegarde de la DataFrame dans un fichier excel"
   ]
  },
  {
   "cell_type": "code",
   "execution_count": 35,
   "metadata": {},
   "outputs": [],
   "source": [
    "df.to_excel(r'D:\\maxim\\Documents\\Projects\\CollecteDesDonnees\\Youtube\\YoutubeRaw.xlsx', index=False)"
   ]
  },
  {
   "attachments": {},
   "cell_type": "markdown",
   "metadata": {},
   "source": [
    "Sauvegarde de la DataFrame dans un fichier JSON"
   ]
  },
  {
   "cell_type": "code",
   "execution_count": 36,
   "metadata": {},
   "outputs": [],
   "source": [
    "out = df.to_json(orient='records')[1:-1].replace('},{', '} {')\n",
    "\n",
    "with open('youtube_data.json', 'w') as f:\n",
    "    f.write(out)"
   ]
  }
 ],
 "metadata": {
  "kernelspec": {
   "display_name": "Python 3",
   "language": "python",
   "name": "python3"
  },
  "language_info": {
   "codemirror_mode": {
    "name": "ipython",
    "version": 3
   },
   "file_extension": ".py",
   "mimetype": "text/x-python",
   "name": "python",
   "nbconvert_exporter": "python",
   "pygments_lexer": "ipython3",
   "version": "3.11.0"
  },
  "orig_nbformat": 4
 },
 "nbformat": 4,
 "nbformat_minor": 2
}
