{
 "cells": [
  {
   "cell_type": "code",
   "execution_count": 6,
   "metadata": {},
   "outputs": [
    {
     "name": "stdout",
     "output_type": "stream",
     "text": [
      "Requirement already satisfied: selenium in d:\\program fil\\python\\python311\\lib\\site-packages (4.8.0)\n",
      "Requirement already satisfied: urllib3[socks]~=1.26 in d:\\program fil\\python\\python311\\lib\\site-packages (from selenium) (1.26.14)\n",
      "Requirement already satisfied: trio~=0.17 in d:\\program fil\\python\\python311\\lib\\site-packages (from selenium) (0.22.0)\n",
      "Requirement already satisfied: trio-websocket~=0.9 in d:\\program fil\\python\\python311\\lib\\site-packages (from selenium) (0.9.2)\n",
      "Requirement already satisfied: certifi>=2021.10.8 in d:\\program fil\\python\\python311\\lib\\site-packages (from selenium) (2022.12.7)\n",
      "Requirement already satisfied: attrs>=19.2.0 in d:\\program fil\\python\\python311\\lib\\site-packages (from trio~=0.17->selenium) (22.2.0)\n",
      "Requirement already satisfied: sortedcontainers in d:\\program fil\\python\\python311\\lib\\site-packages (from trio~=0.17->selenium) (2.4.0)\n",
      "Requirement already satisfied: async-generator>=1.9 in d:\\program fil\\python\\python311\\lib\\site-packages (from trio~=0.17->selenium) (1.10)\n",
      "Requirement already satisfied: idna in d:\\program fil\\python\\python311\\lib\\site-packages (from trio~=0.17->selenium) (3.4)\n",
      "Requirement already satisfied: outcome in d:\\program fil\\python\\python311\\lib\\site-packages (from trio~=0.17->selenium) (1.2.0)\n",
      "Requirement already satisfied: sniffio in d:\\program fil\\python\\python311\\lib\\site-packages (from trio~=0.17->selenium) (1.3.0)\n",
      "Requirement already satisfied: cffi>=1.14 in d:\\program fil\\python\\python311\\lib\\site-packages (from trio~=0.17->selenium) (1.15.1)\n",
      "Requirement already satisfied: wsproto>=0.14 in d:\\program fil\\python\\python311\\lib\\site-packages (from trio-websocket~=0.9->selenium) (1.2.0)\n",
      "Requirement already satisfied: PySocks!=1.5.7,<2.0,>=1.5.6 in d:\\program fil\\python\\python311\\lib\\site-packages (from urllib3[socks]~=1.26->selenium) (1.7.1)\n",
      "Requirement already satisfied: pycparser in d:\\program fil\\python\\python311\\lib\\site-packages (from cffi>=1.14->trio~=0.17->selenium) (2.21)\n",
      "Requirement already satisfied: h11<1,>=0.9.0 in d:\\program fil\\python\\python311\\lib\\site-packages (from wsproto>=0.14->trio-websocket~=0.9->selenium) (0.14.0)\n"
     ]
    }
   ],
   "source": [
    "!pip install selenium"
   ]
  },
  {
   "cell_type": "code",
   "execution_count": 1,
   "metadata": {},
   "outputs": [],
   "source": [
    "from selenium import webdriver\n",
    "from selenium.webdriver.common.keys import Keys\n",
    "from selenium.webdriver.support import expected_conditions as EC\n",
    "from selenium.webdriver.common.by import By\n",
    "from selenium.webdriver.support.wait import WebDriverWait"
   ]
  },
  {
   "cell_type": "code",
   "execution_count": 8,
   "metadata": {},
   "outputs": [
    {
     "name": "stdout",
     "output_type": "stream",
     "text": [
      "Requirement already satisfied: wget in d:\\program fil\\python\\python311\\lib\\site-packages (3.2)\n"
     ]
    }
   ],
   "source": [
    "!pip install wget"
   ]
  },
  {
   "cell_type": "code",
   "execution_count": 33,
   "metadata": {},
   "outputs": [],
   "source": [
    "import os\n",
    "import wget"
   ]
  },
  {
   "cell_type": "code",
   "execution_count": 2,
   "metadata": {},
   "outputs": [],
   "source": [
    "driver = webdriver.Chrome()\n",
    "driver.get(\"https://www.instagram.com/\")"
   ]
  },
  {
   "cell_type": "code",
   "execution_count": 3,
   "metadata": {},
   "outputs": [],
   "source": [
    "cookie = WebDriverWait(driver, 15).until(EC.element_to_be_clickable((By.XPATH, \"//button[contains(text(), 'Uniquement autoriser les cookies essentiels')]\"))).click()"
   ]
  },
  {
   "cell_type": "code",
   "execution_count": 4,
   "metadata": {},
   "outputs": [],
   "source": [
    "username = WebDriverWait(driver, 10).until(EC.element_to_be_clickable((By.CSS_SELECTOR, \"input[name = 'username']\")))\n",
    "password = WebDriverWait(driver, 10).until(EC.element_to_be_clickable((By.CSS_SELECTOR, \"input[name = 'password']\")))\n",
    "\n",
    "username.clear()\n",
    "password.clear()\n",
    "username.send_keys(\"ouigogo30100\")\n",
    "password.send_keys(\"ouigogogo30100\")"
   ]
  },
  {
   "cell_type": "code",
   "execution_count": 5,
   "metadata": {},
   "outputs": [],
   "source": [
    "login = WebDriverWait(driver, 10).until(EC.element_to_be_clickable((By.CSS_SELECTOR, \"button[type='submit']\"))).click()"
   ]
  },
  {
   "cell_type": "code",
   "execution_count": 38,
   "metadata": {},
   "outputs": [
    {
     "ename": "TimeoutException",
     "evalue": "Message: \nStacktrace:\nBacktrace:\n\t(No symbol) [0x006F37D3]\n\t(No symbol) [0x00688B81]\n\t(No symbol) [0x0058B36D]\n\t(No symbol) [0x005BD382]\n\t(No symbol) [0x005BD4BB]\n\t(No symbol) [0x005F3302]\n\t(No symbol) [0x005DB464]\n\t(No symbol) [0x005F1215]\n\t(No symbol) [0x005DB216]\n\t(No symbol) [0x005B0D97]\n\t(No symbol) [0x005B253D]\n\tGetHandleVerifier [0x0096ABF2+2510930]\n\tGetHandleVerifier [0x00998EC1+2700065]\n\tGetHandleVerifier [0x0099C86C+2714828]\n\tGetHandleVerifier [0x007A3480+645344]\n\t(No symbol) [0x00690FD2]\n\t(No symbol) [0x00696C68]\n\t(No symbol) [0x00696D4B]\n\t(No symbol) [0x006A0D6B]\n\tBaseThreadInitThunk [0x75427D69+25]\n\tRtlInitializeExceptionChain [0x76FBBB9B+107]\n\tRtlClearBits [0x76FBBB1F+191]\n",
     "output_type": "error",
     "traceback": [
      "\u001b[1;31m---------------------------------------------------------------------------\u001b[0m",
      "\u001b[1;31mTimeoutException\u001b[0m                          Traceback (most recent call last)",
      "Cell \u001b[1;32mIn[38], line 1\u001b[0m\n\u001b[1;32m----> 1\u001b[0m not_now \u001b[38;5;241m=\u001b[39m \u001b[43mWebDriverWait\u001b[49m\u001b[43m(\u001b[49m\u001b[43mdriver\u001b[49m\u001b[43m,\u001b[49m\u001b[43m \u001b[49m\u001b[38;5;241;43m15\u001b[39;49m\u001b[43m)\u001b[49m\u001b[38;5;241;43m.\u001b[39;49m\u001b[43muntil\u001b[49m\u001b[43m(\u001b[49m\u001b[43mEC\u001b[49m\u001b[38;5;241;43m.\u001b[39;49m\u001b[43melement_to_be_clickable\u001b[49m\u001b[43m(\u001b[49m\u001b[43m(\u001b[49m\u001b[43mBy\u001b[49m\u001b[38;5;241;43m.\u001b[39;49m\u001b[43mXPATH\u001b[49m\u001b[43m,\u001b[49m\u001b[43m \u001b[49m\u001b[38;5;124;43m\"\u001b[39;49m\u001b[38;5;124;43m//button[contains(text(), \u001b[39;49m\u001b[38;5;124;43m'\u001b[39;49m\u001b[38;5;124;43mPlus tard\u001b[39;49m\u001b[38;5;124;43m'\u001b[39;49m\u001b[38;5;124;43m)]\u001b[39;49m\u001b[38;5;124;43m\"\u001b[39;49m\u001b[43m)\u001b[49m\u001b[43m)\u001b[49m\u001b[43m)\u001b[49m\u001b[38;5;241m.\u001b[39mclick()\n",
      "File \u001b[1;32mD:\\Program Fil\\Python\\Python311\\Lib\\site-packages\\selenium\\webdriver\\support\\wait.py:95\u001b[0m, in \u001b[0;36mWebDriverWait.until\u001b[1;34m(self, method, message)\u001b[0m\n\u001b[0;32m     93\u001b[0m     \u001b[38;5;28;01mif\u001b[39;00m time\u001b[38;5;241m.\u001b[39mmonotonic() \u001b[38;5;241m>\u001b[39m end_time:\n\u001b[0;32m     94\u001b[0m         \u001b[38;5;28;01mbreak\u001b[39;00m\n\u001b[1;32m---> 95\u001b[0m \u001b[38;5;28;01mraise\u001b[39;00m TimeoutException(message, screen, stacktrace)\n",
      "\u001b[1;31mTimeoutException\u001b[0m: Message: \nStacktrace:\nBacktrace:\n\t(No symbol) [0x006F37D3]\n\t(No symbol) [0x00688B81]\n\t(No symbol) [0x0058B36D]\n\t(No symbol) [0x005BD382]\n\t(No symbol) [0x005BD4BB]\n\t(No symbol) [0x005F3302]\n\t(No symbol) [0x005DB464]\n\t(No symbol) [0x005F1215]\n\t(No symbol) [0x005DB216]\n\t(No symbol) [0x005B0D97]\n\t(No symbol) [0x005B253D]\n\tGetHandleVerifier [0x0096ABF2+2510930]\n\tGetHandleVerifier [0x00998EC1+2700065]\n\tGetHandleVerifier [0x0099C86C+2714828]\n\tGetHandleVerifier [0x007A3480+645344]\n\t(No symbol) [0x00690FD2]\n\t(No symbol) [0x00696C68]\n\t(No symbol) [0x00696D4B]\n\t(No symbol) [0x006A0D6B]\n\tBaseThreadInitThunk [0x75427D69+25]\n\tRtlInitializeExceptionChain [0x76FBBB9B+107]\n\tRtlClearBits [0x76FBBB1F+191]\n"
     ]
    }
   ],
   "source": [
    "not_now = WebDriverWait(driver, 15).until(EC.element_to_be_clickable((By.XPATH, \"//button[contains(text(), 'Plus tard')]\"))).click()"
   ]
  },
  {
   "cell_type": "code",
   "execution_count": null,
   "metadata": {},
   "outputs": [],
   "source": [
    "not_now2 = WebDriverWait(driver, 15).until(EC.element_to_be_clickable((By.XPATH, \"//button[contains(text(), 'Plus tard')]\"))).click()"
   ]
  },
  {
   "cell_type": "code",
   "execution_count": null,
   "metadata": {},
   "outputs": [],
   "source": [
    "#search_box = WebDriverWait(driver, 10).until(EC.element_to_be_clickable((By.XPATH, \"//input[@aria-label='Rechercher']\")))\n",
    "#search_box.clear()\n",
    "\n",
    "keyword = \"#chatgpt\"\n",
    "#search_box.send_keys(keyword)"
   ]
  },
  {
   "cell_type": "code",
   "execution_count": null,
   "metadata": {},
   "outputs": [],
   "source": [
    "search_box = driver.find_element(By.XPATH, \"//input[@aria-label='Saisie de la recherche']\")\n",
    "search_box.clear()\n",
    "search_box.send_keys(keyword)"
   ]
  },
  {
   "cell_type": "code",
   "execution_count": null,
   "metadata": {},
   "outputs": [],
   "source": [
    "search_box.send_keys(Keys.ENTER)\n",
    "search_box.send_keys(Keys.ENTER)"
   ]
  },
  {
   "cell_type": "code",
   "execution_count": null,
   "metadata": {},
   "outputs": [],
   "source": [
    "import time"
   ]
  },
  {
   "cell_type": "code",
   "execution_count": null,
   "metadata": {},
   "outputs": [],
   "source": [
    "driver.execute_script(\"window.scrollTo(0, 4000);\")\n",
    "time.sleep(3)\n",
    "#images = driver.find_elements(By.XPATH,\"//img[@class='_aagw']\")\n",
    "images = driver.find_elements(By.TAG_NAME, 'img')\n",
    "images = [image.get_attribute('src') for image in images]\n",
    "images = images[2:]"
   ]
  },
  {
   "cell_type": "markdown",
   "metadata": {},
   "source": [
    "Save images to computer"
   ]
  },
  {
   "cell_type": "code",
   "execution_count": 15,
   "metadata": {},
   "outputs": [
    {
     "name": "stdout",
     "output_type": "stream",
     "text": [
      "D:\\maxim\\Documents\\Projects\\CollecteDesDonnees\\Instagram\\Photos\\chatgpts\n"
     ]
    }
   ],
   "source": [
    "path = r'D:\\maxim\\Documents\\Projects\\CollecteDesDonnees\\Instagram\\Photos'\n",
    "path = os.path.join(path, keyword[1:] + \"s\")\n",
    "print(path)"
   ]
  },
  {
   "cell_type": "code",
   "execution_count": 76,
   "metadata": {},
   "outputs": [
    {
     "ename": "FileExistsError",
     "evalue": "[WinError 183] Impossible de créer un fichier déjà existant: 'D:\\\\maxim\\\\Documents\\\\Projects\\\\CollecteDesDonnees\\\\Instagram\\\\Photos\\\\cats'",
     "output_type": "error",
     "traceback": [
      "\u001b[1;31m---------------------------------------------------------------------------\u001b[0m",
      "\u001b[1;31mFileExistsError\u001b[0m                           Traceback (most recent call last)",
      "Cell \u001b[1;32mIn[76], line 1\u001b[0m\n\u001b[1;32m----> 1\u001b[0m \u001b[43mos\u001b[49m\u001b[38;5;241;43m.\u001b[39;49m\u001b[43mmkdir\u001b[49m\u001b[43m(\u001b[49m\u001b[43mpath\u001b[49m\u001b[43m)\u001b[49m\n\u001b[0;32m      2\u001b[0m path\n",
      "\u001b[1;31mFileExistsError\u001b[0m: [WinError 183] Impossible de créer un fichier déjà existant: 'D:\\\\maxim\\\\Documents\\\\Projects\\\\CollecteDesDonnees\\\\Instagram\\\\Photos\\\\cats'"
     ]
    }
   ],
   "source": [
    "os.mkdir(path)\n",
    "path"
   ]
  },
  {
   "cell_type": "code",
   "execution_count": 123,
   "metadata": {},
   "outputs": [
    {
     "name": "stdout",
     "output_type": "stream",
     "text": [
      "D:\\maxim\\Documents\\Projects\\CollecteDesDonnees\\Instagram\\Photos\\cats\\cat0.jpg\n",
      "100% [..............................................................................] 28350 / 28350D:\\maxim\\Documents\\Projects\\CollecteDesDonnees\\Instagram\\Photos\\cats\\cat1.jpg\n",
      "100% [............................................................................] 233406 / 233406D:\\maxim\\Documents\\Projects\\CollecteDesDonnees\\Instagram\\Photos\\cats\\cat2.jpg\n",
      "100% [............................................................................] 233406 / 233406D:\\maxim\\Documents\\Projects\\CollecteDesDonnees\\Instagram\\Photos\\cats\\cat3.jpg\n",
      "100% [............................................................................] 274339 / 274339D:\\maxim\\Documents\\Projects\\CollecteDesDonnees\\Instagram\\Photos\\cats\\cat4.jpg\n",
      "100% [............................................................................] 178737 / 178737D:\\maxim\\Documents\\Projects\\CollecteDesDonnees\\Instagram\\Photos\\cats\\cat5.jpg\n",
      "100% [............................................................................] 162493 / 162493D:\\maxim\\Documents\\Projects\\CollecteDesDonnees\\Instagram\\Photos\\cats\\cat6.jpg\n",
      "100% [............................................................................] 240130 / 240130D:\\maxim\\Documents\\Projects\\CollecteDesDonnees\\Instagram\\Photos\\cats\\cat7.jpg\n",
      "100% [............................................................................] 408888 / 408888D:\\maxim\\Documents\\Projects\\CollecteDesDonnees\\Instagram\\Photos\\cats\\cat8.jpg\n",
      "100% [............................................................................] 280216 / 280216D:\\maxim\\Documents\\Projects\\CollecteDesDonnees\\Instagram\\Photos\\cats\\cat9.jpg\n",
      "100% [............................................................................] 391289 / 391289D:\\maxim\\Documents\\Projects\\CollecteDesDonnees\\Instagram\\Photos\\cats\\cat10.jpg\n",
      "100% [............................................................................] 140386 / 140386D:\\maxim\\Documents\\Projects\\CollecteDesDonnees\\Instagram\\Photos\\cats\\cat11.jpg\n",
      "100% [............................................................................] 394279 / 394279D:\\maxim\\Documents\\Projects\\CollecteDesDonnees\\Instagram\\Photos\\cats\\cat12.jpg\n",
      "100% [............................................................................] 338851 / 338851D:\\maxim\\Documents\\Projects\\CollecteDesDonnees\\Instagram\\Photos\\cats\\cat13.jpg\n",
      "100% [............................................................................] 255808 / 255808D:\\maxim\\Documents\\Projects\\CollecteDesDonnees\\Instagram\\Photos\\cats\\cat14.jpg\n",
      "100% [............................................................................] 146042 / 146042D:\\maxim\\Documents\\Projects\\CollecteDesDonnees\\Instagram\\Photos\\cats\\cat15.jpg\n",
      "100% [..............................................................................] 74257 / 74257D:\\maxim\\Documents\\Projects\\CollecteDesDonnees\\Instagram\\Photos\\cats\\cat16.jpg\n",
      "100% [............................................................................] 402227 / 402227D:\\maxim\\Documents\\Projects\\CollecteDesDonnees\\Instagram\\Photos\\cats\\cat17.jpg\n",
      "100% [............................................................................] 245178 / 245178D:\\maxim\\Documents\\Projects\\CollecteDesDonnees\\Instagram\\Photos\\cats\\cat18.jpg\n",
      "100% [..............................................................................] 54798 / 54798D:\\maxim\\Documents\\Projects\\CollecteDesDonnees\\Instagram\\Photos\\cats\\cat19.jpg\n",
      "100% [............................................................................] 253091 / 253091D:\\maxim\\Documents\\Projects\\CollecteDesDonnees\\Instagram\\Photos\\cats\\cat20.jpg\n",
      "100% [............................................................................] 269001 / 269001D:\\maxim\\Documents\\Projects\\CollecteDesDonnees\\Instagram\\Photos\\cats\\cat21.jpg\n",
      "100% [............................................................................] 174084 / 174084D:\\maxim\\Documents\\Projects\\CollecteDesDonnees\\Instagram\\Photos\\cats\\cat22.jpg\n",
      "100% [............................................................................] 118543 / 118543D:\\maxim\\Documents\\Projects\\CollecteDesDonnees\\Instagram\\Photos\\cats\\cat23.jpg\n",
      "100% [............................................................................] 174867 / 174867D:\\maxim\\Documents\\Projects\\CollecteDesDonnees\\Instagram\\Photos\\cats\\cat24.jpg\n",
      "100% [..............................................................................] 21102 / 21102D:\\maxim\\Documents\\Projects\\CollecteDesDonnees\\Instagram\\Photos\\cats\\cat25.jpg\n",
      "100% [............................................................................] 158483 / 158483D:\\maxim\\Documents\\Projects\\CollecteDesDonnees\\Instagram\\Photos\\cats\\cat26.jpg\n",
      "100% [............................................................................] 124237 / 124237D:\\maxim\\Documents\\Projects\\CollecteDesDonnees\\Instagram\\Photos\\cats\\cat27.jpg\n",
      "100% [............................................................................] 134004 / 134004D:\\maxim\\Documents\\Projects\\CollecteDesDonnees\\Instagram\\Photos\\cats\\cat28.jpg\n",
      "100% [............................................................................] 287368 / 287368D:\\maxim\\Documents\\Projects\\CollecteDesDonnees\\Instagram\\Photos\\cats\\cat29.jpg\n",
      "100% [..............................................................................] 98077 / 98077D:\\maxim\\Documents\\Projects\\CollecteDesDonnees\\Instagram\\Photos\\cats\\cat30.jpg\n",
      "100% [............................................................................] 114131 / 114131D:\\maxim\\Documents\\Projects\\CollecteDesDonnees\\Instagram\\Photos\\cats\\cat31.jpg\n",
      "100% [............................................................................] 197388 / 197388D:\\maxim\\Documents\\Projects\\CollecteDesDonnees\\Instagram\\Photos\\cats\\cat32.jpg\n",
      "100% [............................................................................] 482592 / 482592D:\\maxim\\Documents\\Projects\\CollecteDesDonnees\\Instagram\\Photos\\cats\\cat33.jpg\n",
      "100% [............................................................................] 248253 / 248253D:\\maxim\\Documents\\Projects\\CollecteDesDonnees\\Instagram\\Photos\\cats\\cat34.jpg\n",
      "100% [..............................................................................] 66925 / 66925D:\\maxim\\Documents\\Projects\\CollecteDesDonnees\\Instagram\\Photos\\cats\\cat35.jpg\n",
      "100% [............................................................................] 173028 / 173028D:\\maxim\\Documents\\Projects\\CollecteDesDonnees\\Instagram\\Photos\\cats\\cat36.jpg\n",
      "100% [............................................................................] 308203 / 308203D:\\maxim\\Documents\\Projects\\CollecteDesDonnees\\Instagram\\Photos\\cats\\cat37.jpg\n",
      "100% [............................................................................] 164045 / 164045D:\\maxim\\Documents\\Projects\\CollecteDesDonnees\\Instagram\\Photos\\cats\\cat38.jpg\n",
      "100% [............................................................................] 153361 / 153361D:\\maxim\\Documents\\Projects\\CollecteDesDonnees\\Instagram\\Photos\\cats\\cat39.jpg\n",
      "100% [............................................................................] 103041 / 103041D:\\maxim\\Documents\\Projects\\CollecteDesDonnees\\Instagram\\Photos\\cats\\cat40.jpg\n",
      "100% [..............................................................................] 73663 / 73663D:\\maxim\\Documents\\Projects\\CollecteDesDonnees\\Instagram\\Photos\\cats\\cat41.jpg\n",
      "100% [............................................................................] 257090 / 257090D:\\maxim\\Documents\\Projects\\CollecteDesDonnees\\Instagram\\Photos\\cats\\cat42.jpg\n",
      "100% [............................................................................] 186483 / 186483D:\\maxim\\Documents\\Projects\\CollecteDesDonnees\\Instagram\\Photos\\cats\\cat43.jpg\n",
      "100% [..............................................................................] 82995 / 82995D:\\maxim\\Documents\\Projects\\CollecteDesDonnees\\Instagram\\Photos\\cats\\cat44.jpg\n",
      "100% [............................................................................] 194603 / 194603D:\\maxim\\Documents\\Projects\\CollecteDesDonnees\\Instagram\\Photos\\cats\\cat45.jpg\n",
      "100% [..............................................................................] 92975 / 92975D:\\maxim\\Documents\\Projects\\CollecteDesDonnees\\Instagram\\Photos\\cats\\cat46.jpg\n",
      "100% [............................................................................] 594339 / 594339D:\\maxim\\Documents\\Projects\\CollecteDesDonnees\\Instagram\\Photos\\cats\\cat47.jpg\n",
      "100% [............................................................................] 211217 / 211217D:\\maxim\\Documents\\Projects\\CollecteDesDonnees\\Instagram\\Photos\\cats\\cat48.jpg\n",
      "100% [............................................................................] 152169 / 152169D:\\maxim\\Documents\\Projects\\CollecteDesDonnees\\Instagram\\Photos\\cats\\cat49.jpg\n",
      "100% [............................................................................] 633207 / 633207D:\\maxim\\Documents\\Projects\\CollecteDesDonnees\\Instagram\\Photos\\cats\\cat50.jpg\n",
      "100% [............................................................................] 301852 / 301852D:\\maxim\\Documents\\Projects\\CollecteDesDonnees\\Instagram\\Photos\\cats\\cat51.jpg\n",
      "100% [..............................................................................] 75914 / 75914D:\\maxim\\Documents\\Projects\\CollecteDesDonnees\\Instagram\\Photos\\cats\\cat52.jpg\n",
      "100% [............................................................................] 213745 / 213745D:\\maxim\\Documents\\Projects\\CollecteDesDonnees\\Instagram\\Photos\\cats\\cat53.jpg\n",
      "100% [............................................................................] 203638 / 203638D:\\maxim\\Documents\\Projects\\CollecteDesDonnees\\Instagram\\Photos\\cats\\cat54.jpg\n",
      "100% [..............................................................................] 54925 / 54925D:\\maxim\\Documents\\Projects\\CollecteDesDonnees\\Instagram\\Photos\\cats\\cat55.jpg\n",
      "100% [............................................................................] 353809 / 353809D:\\maxim\\Documents\\Projects\\CollecteDesDonnees\\Instagram\\Photos\\cats\\cat56.jpg\n",
      "100% [............................................................................] 568932 / 568932D:\\maxim\\Documents\\Projects\\CollecteDesDonnees\\Instagram\\Photos\\cats\\cat57.jpg\n",
      "100% [............................................................................] 135270 / 135270D:\\maxim\\Documents\\Projects\\CollecteDesDonnees\\Instagram\\Photos\\cats\\cat58.jpg\n",
      "100% [............................................................................] 334748 / 334748D:\\maxim\\Documents\\Projects\\CollecteDesDonnees\\Instagram\\Photos\\cats\\cat59.jpg\n",
      "100% [............................................................................] 187915 / 187915D:\\maxim\\Documents\\Projects\\CollecteDesDonnees\\Instagram\\Photos\\cats\\cat60.jpg\n",
      "100% [............................................................................] 161160 / 161160D:\\maxim\\Documents\\Projects\\CollecteDesDonnees\\Instagram\\Photos\\cats\\cat61.jpg\n",
      "100% [............................................................................] 173212 / 173212D:\\maxim\\Documents\\Projects\\CollecteDesDonnees\\Instagram\\Photos\\cats\\cat62.jpg\n",
      "100% [..............................................................................] 86427 / 86427D:\\maxim\\Documents\\Projects\\CollecteDesDonnees\\Instagram\\Photos\\cats\\cat63.jpg\n",
      "100% [............................................................................] 220212 / 220212D:\\maxim\\Documents\\Projects\\CollecteDesDonnees\\Instagram\\Photos\\cats\\cat64.jpg\n",
      "100% [............................................................................] 453944 / 453944D:\\maxim\\Documents\\Projects\\CollecteDesDonnees\\Instagram\\Photos\\cats\\cat65.jpg\n",
      "100% [............................................................................] 285683 / 285683D:\\maxim\\Documents\\Projects\\CollecteDesDonnees\\Instagram\\Photos\\cats\\cat66.jpg\n",
      "100% [............................................................................] 187162 / 187162D:\\maxim\\Documents\\Projects\\CollecteDesDonnees\\Instagram\\Photos\\cats\\cat67.jpg\n",
      "100% [............................................................................] 260643 / 260643"
     ]
    }
   ],
   "source": [
    "counter = 0\n",
    "for image in images:\n",
    "    save_as = os.path.join(path, keyword[1:] + str(counter) + '.jpg')\n",
    "    wget.download(image, save_as)\n",
    "    counter += 1"
   ]
  },
  {
   "cell_type": "code",
   "execution_count": 126,
   "metadata": {},
   "outputs": [
    {
     "name": "stdout",
     "output_type": "stream",
     "text": [
      "[]\n"
     ]
    }
   ],
   "source": [
    "desc_text = driver.find_elements(By.XPATH, \"//span[@title='Edited']\")\n",
    "print(desc_text)"
   ]
  },
  {
   "cell_type": "code",
   "execution_count": null,
   "metadata": {},
   "outputs": [],
   "source": []
  },
  {
   "cell_type": "code",
   "execution_count": null,
   "metadata": {},
   "outputs": [],
   "source": []
  },
  {
   "cell_type": "code",
   "execution_count": null,
   "metadata": {},
   "outputs": [],
   "source": []
  },
  {
   "cell_type": "code",
   "execution_count": 17,
   "metadata": {},
   "outputs": [
    {
     "name": "stdout",
     "output_type": "stream",
     "text": [
      "\n",
      "\n",
      "\n",
      "\n",
      "\n",
      "\n",
      "\n",
      "\n",
      "\n",
      "\n",
      "\n",
      "\n",
      "\n",
      "\n",
      "\n",
      "\n",
      "\n",
      "\n",
      "\n",
      "\n",
      "\n",
      "\n",
      "\n",
      "\n",
      "\n",
      "\n",
      "\n",
      "\n",
      "\n",
      "\n",
      "\n",
      "\n",
      "\n"
     ]
    }
   ],
   "source": [
    "import bs4\n",
    "from bs4 import BeautifulSoup\n",
    "soup = BeautifulSoup(driver.page_source, 'html.parser')\n",
    "hashtags = soup.find_all('div', class_='_aagw')\n",
    "for tag in hashtags:\n",
    "    print(tag.text)\n"
   ]
  },
  {
   "cell_type": "code",
   "execution_count": 18,
   "metadata": {},
   "outputs": [
    {
     "name": "stdout",
     "output_type": "stream",
     "text": [
      "[<div class=\"_aagw\"></div>, <div class=\"_aagw\"></div>, <div class=\"_aagw\"></div>, <div class=\"_aagw\"></div>, <div class=\"_aagw\"></div>, <div class=\"_aagw\"></div>, <div class=\"_aagw\"></div>, <div class=\"_aagw\"></div>, <div class=\"_aagw\"></div>, <div class=\"_aagw\"></div>, <div class=\"_aagw\"></div>, <div class=\"_aagw\"></div>, <div class=\"_aagw\"></div>, <div class=\"_aagw\"></div>, <div class=\"_aagw\"></div>, <div class=\"_aagw\"></div>, <div class=\"_aagw\"></div>, <div class=\"_aagw\"></div>, <div class=\"_aagw\"></div>, <div class=\"_aagw\"></div>, <div class=\"_aagw\"></div>, <div class=\"_aagw\"></div>, <div class=\"_aagw\"></div>, <div class=\"_aagw\"></div>, <div class=\"_aagw\"></div>, <div class=\"_aagw\"></div>, <div class=\"_aagw\"></div>, <div class=\"_aagw\"></div>, <div class=\"_aagw\"></div>, <div class=\"_aagw\"></div>, <div class=\"_aagw\"></div>, <div class=\"_aagw\"></div>, <div class=\"_aagw\"></div>]\n"
     ]
    }
   ],
   "source": [
    "print(hashtags)"
   ]
  },
  {
   "cell_type": "code",
   "execution_count": 139,
   "metadata": {},
   "outputs": [
    {
     "ename": "IndexError",
     "evalue": "list index out of range",
     "output_type": "error",
     "traceback": [
      "\u001b[1;31m---------------------------------------------------------------------------\u001b[0m",
      "\u001b[1;31mIndexError\u001b[0m                                Traceback (most recent call last)",
      "Cell \u001b[1;32mIn[139], line 3\u001b[0m\n\u001b[0;32m      1\u001b[0m comments \u001b[38;5;241m=\u001b[39m driver\u001b[38;5;241m.\u001b[39mfind_elements(By\u001b[38;5;241m.\u001b[39mCSS_SELECTOR,\u001b[38;5;124m\"\u001b[39m\u001b[38;5;124mspan._aacl._aaco._aacu._aacx._aad7._aade\u001b[39m\u001b[38;5;124m\"\u001b[39m)\n\u001b[1;32m----> 3\u001b[0m description \u001b[38;5;241m=\u001b[39m \u001b[43mcomments\u001b[49m\u001b[43m[\u001b[49m\u001b[38;5;241;43m0\u001b[39;49m\u001b[43m]\u001b[49m\u001b[38;5;241m.\u001b[39mtext\n\u001b[0;32m      4\u001b[0m \u001b[38;5;28mprint\u001b[39m(\u001b[38;5;124mf\u001b[39m\u001b[38;5;124m\"\u001b[39m\u001b[38;5;124mDescription: \u001b[39m\u001b[38;5;132;01m{\u001b[39;00mdescription\u001b[38;5;132;01m}\u001b[39;00m\u001b[38;5;124m\"\u001b[39m)\n",
      "\u001b[1;31mIndexError\u001b[0m: list index out of range"
     ]
    }
   ],
   "source": [
    "comments = driver.find_elements(By.CSS_SELECTOR,\"span._aacl._aaco._aacu._aacx._aad7._aade\")\n",
    "\n",
    "description = comments[0].text\n",
    "print(f\"Description: {description}\")"
   ]
  },
  {
   "cell_type": "code",
   "execution_count": null,
   "metadata": {},
   "outputs": [],
   "source": []
  },
  {
   "cell_type": "code",
   "execution_count": null,
   "metadata": {},
   "outputs": [],
   "source": []
  },
  {
   "cell_type": "code",
   "execution_count": 154,
   "metadata": {},
   "outputs": [
    {
     "name": "stdout",
     "output_type": "stream",
     "text": [
      "[]\n",
      "[]\n"
     ]
    }
   ],
   "source": [
    "user_names = []\n",
    "user_comments = []\n",
    "comment = driver.find_elements(By.CLASS_NAME, 'content ')\n",
    "print(comment)\n",
    "for c in comment:\n",
    "    container = c.find_elements(By.CLASS_NAME, 'C4VMK')\n",
    "    name = container.find_elements(By.CLASS_NAME, '_6lAjh').text\n",
    "    content = container.find_elements(By.TAG_NAME, 'span').text\n",
    "    content = content.replace('\\n', ' ').strip().rstrip()\n",
    "    user_names.append(name)\n",
    "    user_comments.append(content)\n",
    "print(user_names)"
   ]
  },
  {
   "cell_type": "code",
   "execution_count": 147,
   "metadata": {},
   "outputs": [
    {
     "ename": "IndexError",
     "evalue": "pop from empty list",
     "output_type": "error",
     "traceback": [
      "\u001b[1;31m---------------------------------------------------------------------------\u001b[0m",
      "\u001b[1;31mIndexError\u001b[0m                                Traceback (most recent call last)",
      "Cell \u001b[1;32mIn[147], line 1\u001b[0m\n\u001b[1;32m----> 1\u001b[0m \u001b[43muser_names\u001b[49m\u001b[38;5;241;43m.\u001b[39;49m\u001b[43mpop\u001b[49m\u001b[43m(\u001b[49m\u001b[38;5;241;43m0\u001b[39;49m\u001b[43m)\u001b[49m\n\u001b[0;32m      2\u001b[0m user_comments\u001b[38;5;241m.\u001b[39mpop(\u001b[38;5;241m0\u001b[39m)\n\u001b[0;32m      3\u001b[0m \u001b[38;5;28;01mimport\u001b[39;00m \u001b[38;5;21;01mexcel_exporter\u001b[39;00m\n",
      "\u001b[1;31mIndexError\u001b[0m: pop from empty list"
     ]
    }
   ],
   "source": [
    "user_names.pop(0)\n",
    "user_comments.pop(0)\n",
    "import excel_exporter\n",
    "excel_exporter.export(user_names, user_comments)"
   ]
  },
  {
   "cell_type": "code",
   "execution_count": 157,
   "metadata": {},
   "outputs": [],
   "source": [
    "last_height = driver.execute_script(\"return document.body.scrollHeight\")\n",
    "while True:\n",
    "    driver.execute_script(\"window.scrollTo(0, document.body.scrollHeight);\")\n",
    "    time.sleep(2)\n",
    "    new_height = driver.execute_script(\"return document.body.scrollHeight\")\n",
    "    if new_height == last_height:\n",
    "        break\n",
    "    last_height = new_height"
   ]
  },
  {
   "cell_type": "code",
   "execution_count": 158,
   "metadata": {},
   "outputs": [
    {
     "ename": "TimeoutException",
     "evalue": "Message: \n",
     "output_type": "error",
     "traceback": [
      "\u001b[1;31m---------------------------------------------------------------------------\u001b[0m",
      "\u001b[1;31mTimeoutException\u001b[0m                          Traceback (most recent call last)",
      "Cell \u001b[1;32mIn[158], line 1\u001b[0m\n\u001b[1;32m----> 1\u001b[0m comments \u001b[38;5;241m=\u001b[39m \u001b[43mWebDriverWait\u001b[49m\u001b[43m(\u001b[49m\u001b[43mdriver\u001b[49m\u001b[43m,\u001b[49m\u001b[43m \u001b[49m\u001b[38;5;241;43m10\u001b[39;49m\u001b[43m)\u001b[49m\u001b[38;5;241;43m.\u001b[39;49m\u001b[43muntil\u001b[49m\u001b[43m(\u001b[49m\u001b[43mEC\u001b[49m\u001b[38;5;241;43m.\u001b[39;49m\u001b[43mpresence_of_all_elements_located\u001b[49m\u001b[43m(\u001b[49m\u001b[43m(\u001b[49m\u001b[43mBy\u001b[49m\u001b[38;5;241;43m.\u001b[39;49m\u001b[43mCSS_SELECTOR\u001b[49m\u001b[43m,\u001b[49m\u001b[43m \u001b[49m\u001b[38;5;124;43m'\u001b[39;49m\u001b[38;5;124;43mul.XQXOT.pXf-y li\u001b[39;49m\u001b[38;5;124;43m'\u001b[39;49m\u001b[43m)\u001b[49m\u001b[43m)\u001b[49m\u001b[43m)\u001b[49m\n\u001b[0;32m      2\u001b[0m \u001b[38;5;28;01mfor\u001b[39;00m comment \u001b[38;5;129;01min\u001b[39;00m comments:\n\u001b[0;32m      3\u001b[0m     \u001b[38;5;28mprint\u001b[39m(comment\u001b[38;5;241m.\u001b[39mtext)\n",
      "File \u001b[1;32mD:\\Program Fil\\Python\\Python311\\Lib\\site-packages\\selenium\\webdriver\\support\\wait.py:95\u001b[0m, in \u001b[0;36mWebDriverWait.until\u001b[1;34m(self, method, message)\u001b[0m\n\u001b[0;32m     93\u001b[0m     \u001b[38;5;28;01mif\u001b[39;00m time\u001b[38;5;241m.\u001b[39mmonotonic() \u001b[38;5;241m>\u001b[39m end_time:\n\u001b[0;32m     94\u001b[0m         \u001b[38;5;28;01mbreak\u001b[39;00m\n\u001b[1;32m---> 95\u001b[0m \u001b[38;5;28;01mraise\u001b[39;00m TimeoutException(message, screen, stacktrace)\n",
      "\u001b[1;31mTimeoutException\u001b[0m: Message: \n"
     ]
    }
   ],
   "source": [
    "comments = WebDriverWait(driver, 10).until(EC.presence_of_all_elements_located((By.CSS_SELECTOR, 'ul.XQXOT.pXf-y li')))\n",
    "for comment in comments:\n",
    "    print(comment.text)\n"
   ]
  },
  {
   "cell_type": "code",
   "execution_count": 165,
   "metadata": {},
   "outputs": [],
   "source": [
    "driver.get('https://www.instagram.com/explore/tags/chatgpt/')"
   ]
  },
  {
   "cell_type": "code",
   "execution_count": 166,
   "metadata": {},
   "outputs": [],
   "source": [
    "last_height = driver.execute_script(\"return document.body.scrollHeight\")\n",
    "while True:\n",
    "    driver.execute_script(\"window.scrollTo(0, document.body.scrollHeight);\")\n",
    "    time.sleep(2)\n",
    "    new_height = driver.execute_script(\"return document.body.scrollHeight\")\n",
    "    if new_height == last_height:\n",
    "        break\n",
    "    last_height = new_height\n"
   ]
  },
  {
   "cell_type": "code",
   "execution_count": 167,
   "metadata": {},
   "outputs": [
    {
     "name": "stdout",
     "output_type": "stream",
     "text": [
      "<selenium.webdriver.remote.webelement.WebElement (session=\"56fae515f7f06eb9b3cb5457f9e15ff0\", element=\"58d18048-bb1a-4cba-8aa6-786d5d6e6bfb\")>\n"
     ]
    }
   ],
   "source": [
    "post = WebDriverWait(driver, 10).until(EC.presence_of_element_located((By.XPATH, '//a[@href][1]')))\n",
    "post.click()\n",
    "print(post)"
   ]
  },
  {
   "cell_type": "code",
   "execution_count": 169,
   "metadata": {},
   "outputs": [],
   "source": [
    "last_height = driver.execute_script(\"return document.body.scrollHeight\")\n",
    "while True:\n",
    "    driver.execute_script(\"window.scrollTo(0, document.body.scrollHeight);\")\n",
    "    time.sleep(2)\n",
    "    new_height = driver.execute_script(\"return document.body.scrollHeight\")\n",
    "    if new_height == last_height:\n",
    "        break\n",
    "    last_height = new_height"
   ]
  },
  {
   "cell_type": "code",
   "execution_count": 170,
   "metadata": {},
   "outputs": [
    {
     "ename": "TimeoutException",
     "evalue": "Message: \n",
     "output_type": "error",
     "traceback": [
      "\u001b[1;31m---------------------------------------------------------------------------\u001b[0m",
      "\u001b[1;31mTimeoutException\u001b[0m                          Traceback (most recent call last)",
      "Cell \u001b[1;32mIn[170], line 1\u001b[0m\n\u001b[1;32m----> 1\u001b[0m comments \u001b[38;5;241m=\u001b[39m \u001b[43mWebDriverWait\u001b[49m\u001b[43m(\u001b[49m\u001b[43mdriver\u001b[49m\u001b[43m,\u001b[49m\u001b[43m \u001b[49m\u001b[38;5;241;43m10\u001b[39;49m\u001b[43m)\u001b[49m\u001b[38;5;241;43m.\u001b[39;49m\u001b[43muntil\u001b[49m\u001b[43m(\u001b[49m\u001b[43mEC\u001b[49m\u001b[38;5;241;43m.\u001b[39;49m\u001b[43mpresence_of_all_elements_located\u001b[49m\u001b[43m(\u001b[49m\u001b[43m(\u001b[49m\u001b[43mBy\u001b[49m\u001b[38;5;241;43m.\u001b[39;49m\u001b[43mCSS_SELECTOR\u001b[49m\u001b[43m,\u001b[49m\u001b[43m \u001b[49m\u001b[38;5;124;43m'\u001b[39;49m\u001b[38;5;124;43mul.XQXOT.pXf-y li\u001b[39;49m\u001b[38;5;124;43m'\u001b[39;49m\u001b[43m)\u001b[49m\u001b[43m)\u001b[49m\u001b[43m)\u001b[49m\n\u001b[0;32m      2\u001b[0m \u001b[38;5;28;01mfor\u001b[39;00m comment \u001b[38;5;129;01min\u001b[39;00m comments:\n\u001b[0;32m      3\u001b[0m     \u001b[38;5;28mprint\u001b[39m(comment\u001b[38;5;241m.\u001b[39mtext)\n",
      "File \u001b[1;32mD:\\Program Fil\\Python\\Python311\\Lib\\site-packages\\selenium\\webdriver\\support\\wait.py:95\u001b[0m, in \u001b[0;36mWebDriverWait.until\u001b[1;34m(self, method, message)\u001b[0m\n\u001b[0;32m     93\u001b[0m     \u001b[38;5;28;01mif\u001b[39;00m time\u001b[38;5;241m.\u001b[39mmonotonic() \u001b[38;5;241m>\u001b[39m end_time:\n\u001b[0;32m     94\u001b[0m         \u001b[38;5;28;01mbreak\u001b[39;00m\n\u001b[1;32m---> 95\u001b[0m \u001b[38;5;28;01mraise\u001b[39;00m TimeoutException(message, screen, stacktrace)\n",
      "\u001b[1;31mTimeoutException\u001b[0m: Message: \n"
     ]
    }
   ],
   "source": [
    "comments = WebDriverWait(driver, 10).until(EC.presence_of_all_elements_located((By.CSS_SELECTOR, 'ul.XQXOT.pXf-y li')))\n",
    "for comment in comments:\n",
    "    print(comment.text)"
   ]
  },
  {
   "cell_type": "code",
   "execution_count": 29,
   "metadata": {},
   "outputs": [
    {
     "name": "stdout",
     "output_type": "stream",
     "text": [
      "Requirement already satisfied: instagrapi in d:\\program fil\\python\\python311\\lib\\site-packages (1.16.41)\n",
      "Requirement already satisfied: requests<3.0,>=2.25.1 in d:\\program fil\\python\\python311\\lib\\site-packages (from instagrapi) (2.28.2)\n",
      "Requirement already satisfied: PySocks==1.7.1 in d:\\program fil\\python\\python311\\lib\\site-packages (from instagrapi) (1.7.1)\n",
      "Requirement already satisfied: pydantic==1.10.2 in d:\\program fil\\python\\python311\\lib\\site-packages (from instagrapi) (1.10.2)\n",
      "Requirement already satisfied: pycryptodomex==3.17 in d:\\program fil\\python\\python311\\lib\\site-packages (from instagrapi) (3.17)\n",
      "Requirement already satisfied: typing-extensions>=4.1.0 in d:\\program fil\\python\\python311\\lib\\site-packages (from pydantic==1.10.2->instagrapi) (4.4.0)\n",
      "Requirement already satisfied: charset-normalizer<4,>=2 in d:\\program fil\\python\\python311\\lib\\site-packages (from requests<3.0,>=2.25.1->instagrapi) (2.1.1)\n",
      "Requirement already satisfied: idna<4,>=2.5 in d:\\program fil\\python\\python311\\lib\\site-packages (from requests<3.0,>=2.25.1->instagrapi) (3.4)\n",
      "Requirement already satisfied: urllib3<1.27,>=1.21.1 in d:\\program fil\\python\\python311\\lib\\site-packages (from requests<3.0,>=2.25.1->instagrapi) (1.26.14)\n",
      "Requirement already satisfied: certifi>=2017.4.17 in d:\\program fil\\python\\python311\\lib\\site-packages (from requests<3.0,>=2.25.1->instagrapi) (2022.12.7)\n"
     ]
    }
   ],
   "source": [
    "!pip install instagrapi"
   ]
  },
  {
   "cell_type": "code",
   "execution_count": 30,
   "metadata": {},
   "outputs": [
    {
     "ename": "ChallengeRequired",
     "evalue": "challenge_required",
     "output_type": "error",
     "traceback": [
      "\u001b[1;31m---------------------------------------------------------------------------\u001b[0m",
      "\u001b[1;31mHTTPError\u001b[0m                                 Traceback (most recent call last)",
      "File \u001b[1;32mD:\\Program Fil\\Python\\Python311\\Lib\\site-packages\\instagrapi\\mixins\\private.py:313\u001b[0m, in \u001b[0;36mPrivateRequestMixin._send_private_request\u001b[1;34m(self, endpoint, data, params, login, with_signature, headers, extra_sig)\u001b[0m\n\u001b[0;32m    312\u001b[0m \u001b[38;5;28mself\u001b[39m\u001b[38;5;241m.\u001b[39mlast_response \u001b[38;5;241m=\u001b[39m response\n\u001b[1;32m--> 313\u001b[0m \u001b[43mresponse\u001b[49m\u001b[38;5;241;43m.\u001b[39;49m\u001b[43mraise_for_status\u001b[49m\u001b[43m(\u001b[49m\u001b[43m)\u001b[49m\n\u001b[0;32m    314\u001b[0m \u001b[38;5;66;03m# last_json - for Sentry context in traceback\u001b[39;00m\n",
      "File \u001b[1;32mD:\\Program Fil\\Python\\Python311\\Lib\\site-packages\\requests\\models.py:1021\u001b[0m, in \u001b[0;36mResponse.raise_for_status\u001b[1;34m(self)\u001b[0m\n\u001b[0;32m   1020\u001b[0m \u001b[38;5;28;01mif\u001b[39;00m http_error_msg:\n\u001b[1;32m-> 1021\u001b[0m     \u001b[38;5;28;01mraise\u001b[39;00m HTTPError(http_error_msg, response\u001b[38;5;241m=\u001b[39m\u001b[38;5;28mself\u001b[39m)\n",
      "\u001b[1;31mHTTPError\u001b[0m: 400 Client Error: Bad Request for url: https://i.instagram.com/api/v1/feed/reels_tray/",
      "\nDuring handling of the above exception, another exception occurred:\n",
      "\u001b[1;31mChallengeRequired\u001b[0m                         Traceback (most recent call last)",
      "File \u001b[1;32mD:\\Program Fil\\Python\\Python311\\Lib\\site-packages\\instagrapi\\mixins\\private.py:446\u001b[0m, in \u001b[0;36mPrivateRequestMixin.private_request\u001b[1;34m(self, endpoint, data, params, login, with_signature, headers, extra_sig)\u001b[0m\n\u001b[0;32m    445\u001b[0m     \u001b[38;5;28mself\u001b[39m\u001b[38;5;241m.\u001b[39mprivate_requests_count \u001b[38;5;241m+\u001b[39m\u001b[38;5;241m=\u001b[39m \u001b[38;5;241m1\u001b[39m\n\u001b[1;32m--> 446\u001b[0m     \u001b[38;5;28;43mself\u001b[39;49m\u001b[38;5;241;43m.\u001b[39;49m\u001b[43m_send_private_request\u001b[49m\u001b[43m(\u001b[49m\u001b[43mendpoint\u001b[49m\u001b[43m,\u001b[49m\u001b[43m \u001b[49m\u001b[38;5;241;43m*\u001b[39;49m\u001b[38;5;241;43m*\u001b[39;49m\u001b[43mkwargs\u001b[49m\u001b[43m)\u001b[49m\n\u001b[0;32m    447\u001b[0m \u001b[38;5;28;01mexcept\u001b[39;00m ClientRequestTimeout:\n",
      "File \u001b[1;32mD:\\Program Fil\\Python\\Python311\\Lib\\site-packages\\instagrapi\\mixins\\private.py:344\u001b[0m, in \u001b[0;36mPrivateRequestMixin._send_private_request\u001b[1;34m(self, endpoint, data, params, login, with_signature, headers, extra_sig)\u001b[0m\n\u001b[0;32m    343\u001b[0m \u001b[38;5;28;01mif\u001b[39;00m message \u001b[38;5;241m==\u001b[39m \u001b[38;5;124m\"\u001b[39m\u001b[38;5;124mchallenge_required\u001b[39m\u001b[38;5;124m\"\u001b[39m:\n\u001b[1;32m--> 344\u001b[0m     \u001b[38;5;28;01mraise\u001b[39;00m ChallengeRequired(\u001b[38;5;241m*\u001b[39m\u001b[38;5;241m*\u001b[39mlast_json)\n\u001b[0;32m    345\u001b[0m \u001b[38;5;28;01melif\u001b[39;00m message \u001b[38;5;241m==\u001b[39m \u001b[38;5;124m\"\u001b[39m\u001b[38;5;124mfeedback_required\u001b[39m\u001b[38;5;124m\"\u001b[39m:\n",
      "\u001b[1;31mChallengeRequired\u001b[0m: challenge_required",
      "\nDuring handling of the above exception, another exception occurred:\n",
      "\u001b[1;31mHTTPError\u001b[0m                                 Traceback (most recent call last)",
      "File \u001b[1;32mD:\\Program Fil\\Python\\Python311\\Lib\\site-packages\\instagrapi\\mixins\\private.py:313\u001b[0m, in \u001b[0;36mPrivateRequestMixin._send_private_request\u001b[1;34m(self, endpoint, data, params, login, with_signature, headers, extra_sig)\u001b[0m\n\u001b[0;32m    312\u001b[0m \u001b[38;5;28mself\u001b[39m\u001b[38;5;241m.\u001b[39mlast_response \u001b[38;5;241m=\u001b[39m response\n\u001b[1;32m--> 313\u001b[0m \u001b[43mresponse\u001b[49m\u001b[38;5;241;43m.\u001b[39;49m\u001b[43mraise_for_status\u001b[49m\u001b[43m(\u001b[49m\u001b[43m)\u001b[49m\n\u001b[0;32m    314\u001b[0m \u001b[38;5;66;03m# last_json - for Sentry context in traceback\u001b[39;00m\n",
      "File \u001b[1;32mD:\\Program Fil\\Python\\Python311\\Lib\\site-packages\\requests\\models.py:1021\u001b[0m, in \u001b[0;36mResponse.raise_for_status\u001b[1;34m(self)\u001b[0m\n\u001b[0;32m   1020\u001b[0m \u001b[38;5;28;01mif\u001b[39;00m http_error_msg:\n\u001b[1;32m-> 1021\u001b[0m     \u001b[38;5;28;01mraise\u001b[39;00m HTTPError(http_error_msg, response\u001b[38;5;241m=\u001b[39m\u001b[38;5;28mself\u001b[39m)\n",
      "\u001b[1;31mHTTPError\u001b[0m: 400 Client Error: Bad Request for url: https://i.instagram.com/api/v1/feed/reels_tray/",
      "\nDuring handling of the above exception, another exception occurred:\n",
      "\u001b[1;31mChallengeRequired\u001b[0m                         Traceback (most recent call last)",
      "Cell \u001b[1;32mIn[30], line 4\u001b[0m\n\u001b[0;32m      1\u001b[0m \u001b[38;5;28;01mfrom\u001b[39;00m \u001b[38;5;21;01minstagrapi\u001b[39;00m \u001b[38;5;28;01mimport\u001b[39;00m Client\n\u001b[0;32m      3\u001b[0m cl \u001b[38;5;241m=\u001b[39m Client()\n\u001b[1;32m----> 4\u001b[0m \u001b[43mcl\u001b[49m\u001b[38;5;241;43m.\u001b[39;49m\u001b[43mlogin\u001b[49m\u001b[43m(\u001b[49m\u001b[38;5;124;43m\"\u001b[39;49m\u001b[38;5;124;43mouigogo30100\u001b[39;49m\u001b[38;5;124;43m\"\u001b[39;49m\u001b[43m,\u001b[49m\u001b[43m \u001b[49m\u001b[38;5;124;43m\"\u001b[39;49m\u001b[38;5;124;43mouigogogo30100\u001b[39;49m\u001b[38;5;124;43m\"\u001b[39;49m\u001b[43m)\u001b[49m\n\u001b[0;32m      6\u001b[0m user_id \u001b[38;5;241m=\u001b[39m cl\u001b[38;5;241m.\u001b[39muser_id_from_username(\u001b[38;5;124m\"\u001b[39m\u001b[38;5;124mouigogo30100\u001b[39m\u001b[38;5;124m\"\u001b[39m)\n\u001b[0;32m      7\u001b[0m medias \u001b[38;5;241m=\u001b[39m cl\u001b[38;5;241m.\u001b[39muser_medias(user_id, \u001b[38;5;241m20\u001b[39m)\n",
      "File \u001b[1;32mD:\\Program Fil\\Python\\Python311\\Lib\\site-packages\\instagrapi\\mixins\\auth.py:434\u001b[0m, in \u001b[0;36mLoginMixin.login\u001b[1;34m(self, username, password, relogin, verification_code)\u001b[0m\n\u001b[0;32m    430\u001b[0m     \u001b[38;5;28mself\u001b[39m\u001b[38;5;241m.\u001b[39mauthorization_data \u001b[38;5;241m=\u001b[39m \u001b[38;5;28mself\u001b[39m\u001b[38;5;241m.\u001b[39mparse_authorization(\n\u001b[0;32m    431\u001b[0m         \u001b[38;5;28mself\u001b[39m\u001b[38;5;241m.\u001b[39mlast_response\u001b[38;5;241m.\u001b[39mheaders\u001b[38;5;241m.\u001b[39mget(\u001b[38;5;124m\"\u001b[39m\u001b[38;5;124mig-set-authorization\u001b[39m\u001b[38;5;124m\"\u001b[39m)\n\u001b[0;32m    432\u001b[0m     )\n\u001b[0;32m    433\u001b[0m \u001b[38;5;28;01mif\u001b[39;00m logged:\n\u001b[1;32m--> 434\u001b[0m     \u001b[38;5;28;43mself\u001b[39;49m\u001b[38;5;241;43m.\u001b[39;49m\u001b[43mlogin_flow\u001b[49m\u001b[43m(\u001b[49m\u001b[43m)\u001b[49m\n\u001b[0;32m    435\u001b[0m     \u001b[38;5;28mself\u001b[39m\u001b[38;5;241m.\u001b[39mlast_login \u001b[38;5;241m=\u001b[39m time\u001b[38;5;241m.\u001b[39mtime()\n\u001b[0;32m    436\u001b[0m     \u001b[38;5;28;01mreturn\u001b[39;00m \u001b[38;5;28;01mTrue\u001b[39;00m\n",
      "File \u001b[1;32mD:\\Program Fil\\Python\\Python311\\Lib\\site-packages\\instagrapi\\mixins\\auth.py:170\u001b[0m, in \u001b[0;36mPostLoginFlowMixin.login_flow\u001b[1;34m(self)\u001b[0m\n\u001b[0;32m    167\u001b[0m check_flow \u001b[38;5;241m=\u001b[39m []\n\u001b[0;32m    168\u001b[0m \u001b[38;5;66;03m# chance = random.randint(1, 100) % 2 == 0\u001b[39;00m\n\u001b[0;32m    169\u001b[0m \u001b[38;5;66;03m# reason = \"pull_to_refresh\" if chance else \"cold_start\"\u001b[39;00m\n\u001b[1;32m--> 170\u001b[0m check_flow\u001b[38;5;241m.\u001b[39mappend(\u001b[38;5;28;43mself\u001b[39;49m\u001b[38;5;241;43m.\u001b[39;49m\u001b[43mget_reels_tray_feed\u001b[49m\u001b[43m(\u001b[49m\u001b[38;5;124;43m\"\u001b[39;49m\u001b[38;5;124;43mcold_start\u001b[39;49m\u001b[38;5;124;43m\"\u001b[39;49m\u001b[43m)\u001b[49m)\n\u001b[0;32m    171\u001b[0m check_flow\u001b[38;5;241m.\u001b[39mappend(\u001b[38;5;28mself\u001b[39m\u001b[38;5;241m.\u001b[39mget_timeline_feed([\u001b[38;5;124m\"\u001b[39m\u001b[38;5;124mcold_start_fetch\u001b[39m\u001b[38;5;124m\"\u001b[39m]))\n\u001b[0;32m    172\u001b[0m \u001b[38;5;28;01mreturn\u001b[39;00m \u001b[38;5;28mall\u001b[39m(check_flow)\n",
      "File \u001b[1;32mD:\\Program Fil\\Python\\Python311\\Lib\\site-packages\\instagrapi\\mixins\\auth.py:247\u001b[0m, in \u001b[0;36mPostLoginFlowMixin.get_reels_tray_feed\u001b[1;34m(self, reason)\u001b[0m\n\u001b[0;32m    223\u001b[0m \u001b[38;5;250m\u001b[39m\u001b[38;5;124;03m\"\"\"\u001b[39;00m\n\u001b[0;32m    224\u001b[0m \u001b[38;5;124;03mGet your reels tray feed\u001b[39;00m\n\u001b[0;32m    225\u001b[0m \n\u001b[1;32m   (...)\u001b[0m\n\u001b[0;32m    234\u001b[0m \u001b[38;5;124;03m    A dictionary of response from the call\u001b[39;00m\n\u001b[0;32m    235\u001b[0m \u001b[38;5;124;03m\"\"\"\u001b[39;00m\n\u001b[0;32m    236\u001b[0m data \u001b[38;5;241m=\u001b[39m {\n\u001b[0;32m    237\u001b[0m     \u001b[38;5;124m\"\u001b[39m\u001b[38;5;124msupported_capabilities_new\u001b[39m\u001b[38;5;124m\"\u001b[39m: config\u001b[38;5;241m.\u001b[39mSUPPORTED_CAPABILITIES,\n\u001b[0;32m    238\u001b[0m     \u001b[38;5;124m\"\u001b[39m\u001b[38;5;124mreason\u001b[39m\u001b[38;5;124m\"\u001b[39m: reason,\n\u001b[1;32m   (...)\u001b[0m\n\u001b[0;32m    245\u001b[0m     \u001b[38;5;124m\"\u001b[39m\u001b[38;5;124m_uuid\u001b[39m\u001b[38;5;124m\"\u001b[39m: \u001b[38;5;28mself\u001b[39m\u001b[38;5;241m.\u001b[39muuid,\n\u001b[0;32m    246\u001b[0m }\n\u001b[1;32m--> 247\u001b[0m \u001b[38;5;28;01mreturn\u001b[39;00m \u001b[38;5;28;43mself\u001b[39;49m\u001b[38;5;241;43m.\u001b[39;49m\u001b[43mprivate_request\u001b[49m\u001b[43m(\u001b[49m\u001b[38;5;124;43m\"\u001b[39;49m\u001b[38;5;124;43mfeed/reels_tray/\u001b[39;49m\u001b[38;5;124;43m\"\u001b[39;49m\u001b[43m,\u001b[49m\u001b[43m \u001b[49m\u001b[43mdata\u001b[49m\u001b[43m)\u001b[49m\n",
      "File \u001b[1;32mD:\\Program Fil\\Python\\Python311\\Lib\\site-packages\\instagrapi\\mixins\\private.py:465\u001b[0m, in \u001b[0;36mPrivateRequestMixin.private_request\u001b[1;34m(self, endpoint, data, params, login, with_signature, headers, extra_sig)\u001b[0m\n\u001b[0;32m    462\u001b[0m     \u001b[38;5;28;01mif\u001b[39;00m login \u001b[38;5;129;01mand\u001b[39;00m \u001b[38;5;28mself\u001b[39m\u001b[38;5;241m.\u001b[39muser_id:\n\u001b[0;32m    463\u001b[0m         \u001b[38;5;66;03m# After challenge resolve return last_json\u001b[39;00m\n\u001b[0;32m    464\u001b[0m         \u001b[38;5;28;01mreturn\u001b[39;00m \u001b[38;5;28mself\u001b[39m\u001b[38;5;241m.\u001b[39mlast_json\n\u001b[1;32m--> 465\u001b[0m     \u001b[38;5;28;01mreturn\u001b[39;00m \u001b[38;5;28;43mself\u001b[39;49m\u001b[38;5;241;43m.\u001b[39;49m\u001b[43m_send_private_request\u001b[49m\u001b[43m(\u001b[49m\u001b[43mendpoint\u001b[49m\u001b[43m,\u001b[49m\u001b[43m \u001b[49m\u001b[38;5;241;43m*\u001b[39;49m\u001b[38;5;241;43m*\u001b[39;49m\u001b[43mkwargs\u001b[49m\u001b[43m)\u001b[49m\n\u001b[0;32m    466\u001b[0m \u001b[38;5;28;01mreturn\u001b[39;00m \u001b[38;5;28mself\u001b[39m\u001b[38;5;241m.\u001b[39mlast_json\n",
      "File \u001b[1;32mD:\\Program Fil\\Python\\Python311\\Lib\\site-packages\\instagrapi\\mixins\\private.py:344\u001b[0m, in \u001b[0;36mPrivateRequestMixin._send_private_request\u001b[1;34m(self, endpoint, data, params, login, with_signature, headers, extra_sig)\u001b[0m\n\u001b[0;32m    342\u001b[0m error_type \u001b[38;5;241m=\u001b[39m last_json\u001b[38;5;241m.\u001b[39mget(\u001b[38;5;124m\"\u001b[39m\u001b[38;5;124merror_type\u001b[39m\u001b[38;5;124m\"\u001b[39m)\n\u001b[0;32m    343\u001b[0m \u001b[38;5;28;01mif\u001b[39;00m message \u001b[38;5;241m==\u001b[39m \u001b[38;5;124m\"\u001b[39m\u001b[38;5;124mchallenge_required\u001b[39m\u001b[38;5;124m\"\u001b[39m:\n\u001b[1;32m--> 344\u001b[0m     \u001b[38;5;28;01mraise\u001b[39;00m ChallengeRequired(\u001b[38;5;241m*\u001b[39m\u001b[38;5;241m*\u001b[39mlast_json)\n\u001b[0;32m    345\u001b[0m \u001b[38;5;28;01melif\u001b[39;00m message \u001b[38;5;241m==\u001b[39m \u001b[38;5;124m\"\u001b[39m\u001b[38;5;124mfeedback_required\u001b[39m\u001b[38;5;124m\"\u001b[39m:\n\u001b[0;32m    346\u001b[0m     \u001b[38;5;28;01mraise\u001b[39;00m FeedbackRequired(\n\u001b[0;32m    347\u001b[0m         \u001b[38;5;241m*\u001b[39m\u001b[38;5;241m*\u001b[39m\u001b[38;5;28mdict\u001b[39m(\n\u001b[0;32m    348\u001b[0m             last_json,\n\u001b[1;32m   (...)\u001b[0m\n\u001b[0;32m    351\u001b[0m         )\n\u001b[0;32m    352\u001b[0m     )\n",
      "\u001b[1;31mChallengeRequired\u001b[0m: challenge_required"
     ]
    }
   ],
   "source": [
    "from instagrapi import Client\n",
    "\n",
    "cl = Client()\n",
    "cl.login(\"ouigogo30100\", \"ouigogogo30100\")\n",
    "\n",
    "user_id = cl.user_id_from_username(\"ouigogo30100\")\n",
    "medias = cl.user_medias(user_id, 20)"
   ]
  },
  {
   "cell_type": "code",
   "execution_count": null,
   "metadata": {},
   "outputs": [],
   "source": [
    "media_id = cl.media_id(cl.media_pk_from_url('https://www.instagram.com/p/ByU3LAslgWY/'))"
   ]
  },
  {
   "cell_type": "code",
   "execution_count": null,
   "metadata": {},
   "outputs": [],
   "source": []
  },
  {
   "cell_type": "code",
   "execution_count": null,
   "metadata": {},
   "outputs": [],
   "source": []
  },
  {
   "cell_type": "code",
   "execution_count": null,
   "metadata": {},
   "outputs": [],
   "source": []
  },
  {
   "cell_type": "code",
   "execution_count": null,
   "metadata": {},
   "outputs": [],
   "source": []
  },
  {
   "cell_type": "code",
   "execution_count": 171,
   "metadata": {},
   "outputs": [],
   "source": [
    "driver.close()"
   ]
  },
  {
   "cell_type": "code",
   "execution_count": null,
   "metadata": {},
   "outputs": [],
   "source": []
  }
 ],
 "metadata": {
  "kernelspec": {
   "display_name": "Python 3 (ipykernel)",
   "language": "python",
   "name": "python3"
  },
  "language_info": {
   "codemirror_mode": {
    "name": "ipython",
    "version": 3
   },
   "file_extension": ".py",
   "mimetype": "text/x-python",
   "name": "python",
   "nbconvert_exporter": "python",
   "pygments_lexer": "ipython3",
   "version": "3.11.0"
  },
  "vscode": {
   "interpreter": {
    "hash": "2a805c939253dd78ab80805c33908398d8b908c1d768f626811873916a950a6f"
   }
  }
 },
 "nbformat": 4,
 "nbformat_minor": 2
}
