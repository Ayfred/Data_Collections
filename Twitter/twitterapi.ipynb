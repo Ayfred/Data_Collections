{
 "cells": [
  {
   "attachments": {},
   "cell_type": "markdown",
   "metadata": {},
   "source": [
    "Installation des bibliothèques"
   ]
  },
  {
   "cell_type": "code",
   "execution_count": null,
   "metadata": {},
   "outputs": [],
   "source": [
    "!pip install tweepy --upgrade\n",
    "!pip install pandas --upgrade\n",
    "!pip install openpyxl --upgrade\n",
    "!pip install textblob --upgrade"
   ]
  },
  {
   "attachments": {},
   "cell_type": "markdown",
   "metadata": {},
   "source": [
    "Imports des bibliothèques"
   ]
  },
  {
   "cell_type": "code",
   "execution_count": 2,
   "metadata": {},
   "outputs": [],
   "source": [
    "import tweepy\n",
    "import pandas as pd\n",
    "import json\n",
    "import re\n",
    "import numpy as np\n",
    "from textblob import TextBlob\n",
    "import matplotlib.pyplot as plt"
   ]
  },
  {
   "attachments": {},
   "cell_type": "markdown",
   "metadata": {},
   "source": [
    "API credentials et connection à Twitter"
   ]
  },
  {
   "cell_type": "code",
   "execution_count": 3,
   "metadata": {},
   "outputs": [],
   "source": [
    "#read credentials\n",
    "f = open('credentials.json')\n",
    "data = json.load(f)\n",
    "f.close()\n",
    "\n",
    "consumer_key = data[\"consumer_key\"] #Your API/Consumer key \n",
    "consumer_secret = data[\"consumer_secret\"] #Your API/Consumer Secret Key\n",
    "access_token = data[\"access_token\"]    #Your Access token key\n",
    "access_token_secret = data[\"access_token_secret\"] #Your Access token Secret key\n",
    "\n",
    "# Connect to twitter API\n",
    "auth = tweepy.OAuth1UserHandler(\n",
    "    consumer_key, consumer_secret,\n",
    "    access_token, access_token_secret\n",
    ")\n",
    "api = tweepy.API(auth, wait_on_rate_limit=True)"
   ]
  },
  {
   "attachments": {},
   "cell_type": "markdown",
   "metadata": {},
   "source": [
    "Recherche par mots clés"
   ]
  },
  {
   "cell_type": "code",
   "execution_count": 9,
   "metadata": {},
   "outputs": [],
   "source": [
    "keywords = 'GPT-3'\n",
    "no_of_tweets = 10000"
   ]
  },
  {
   "attachments": {},
   "cell_type": "markdown",
   "metadata": {},
   "source": [
    "Récupération des tweets en prenant compte des mots clés et de la langue"
   ]
  },
  {
   "cell_type": "code",
   "execution_count": 12,
   "metadata": {},
   "outputs": [
    {
     "name": "stderr",
     "output_type": "stream",
     "text": [
      "Rate limit reached. Sleeping for: 475\n"
     ]
    },
    {
     "name": "stdout",
     "output_type": "stream",
     "text": [
      "                 user                                              Tweet  \\\n",
      "0            Worrelpa  RT @JussiRoine: 🤖 BLOGGED: A practical look at...   \n",
      "1     Abdulsalam_muha  RT @csaba_kissi: 🤖 AI Tools to boost your prod...   \n",
      "2           reddtactt  RT @csaba_kissi: 🤖 AI Tools to boost your prod...   \n",
      "3           jadine112  RT @VitalikButerin: @ESYudkowsky I actually wo...   \n",
      "4     jamesaphoenix12  RT @DataChaz: It's not about the size!\\n\\n\"#Ch...   \n",
      "...               ...                                                ...   \n",
      "8412        PCosmixki  RT @Shi4Tech: #DidYouKnow that you can use #AI...   \n",
      "8413     xiaojiahaina  RT @FutureOurWork: Scientists at @MIT_CSAIL ha...   \n",
      "8414      philly_doug  RT @fraserxu: \"Upload a book, ask me anything ...   \n",
      "8415        AthiLumik  RT @FrRonconi: With the new #AImodels, like #C...   \n",
      "8416        Haoyu_USC  RT @mbrandolph: A coming wave of disruptive co...   \n",
      "\n",
      "      likes  retweets               source                created_at  \n",
      "0         0         5  Twitter for Android 2023-03-08 09:41:50+00:00  \n",
      "1         0        17  Twitter for Android 2023-03-08 09:41:00+00:00  \n",
      "2         0        17  Twitter for Android 2023-03-08 09:36:08+00:00  \n",
      "3         0       127      Twitter Web App 2023-03-08 09:34:59+00:00  \n",
      "4         0         6  Twitter for Android 2023-03-08 09:34:48+00:00  \n",
      "...     ...       ...                  ...                       ...  \n",
      "8412      0        23      Twitter Web App 2023-02-26 09:09:47+00:00  \n",
      "8413      0         4   Twitter for iPhone 2023-02-26 07:46:47+00:00  \n",
      "8414      0        72   Twitter for iPhone 2023-02-26 07:36:52+00:00  \n",
      "8415      0       157  Twitter for Android 2023-02-26 07:19:42+00:00  \n",
      "8416      0       965      Twitter Web App 2023-02-26 06:40:09+00:00  \n",
      "\n",
      "[8417 rows x 6 columns]\n"
     ]
    }
   ],
   "source": [
    "tweets = tweepy.Cursor(api.search_tweets, q = \"GPT3 lang:en OR lang:fr\", count = no_of_tweets, tweet_mode = 'extended').items(no_of_tweets)\n",
    "\n",
    "data = []\n",
    "columns = ['user', 'Tweet', 'likes', 'retweets', 'source', 'created_at']\n",
    "\n",
    "for tweet in tweets : \n",
    "    data.append([tweet.user.screen_name, tweet.full_text, tweet.favorite_count, tweet.retweet_count, tweet.source, tweet.created_at])\n",
    "\n",
    "df = pd.DataFrame(data, columns = columns)\n",
    "print(df)"
   ]
  },
  {
   "attachments": {},
   "cell_type": "markdown",
   "metadata": {},
   "source": [
    "Représentation graphique des j'aimes sur les tweets en lien avec GPT"
   ]
  },
  {
   "cell_type": "code",
   "execution_count": 14,
   "metadata": {},
   "outputs": [
    {
     "data": {
      "image/png": "[encoded data removed]",
      "text/plain": [
       "<Figure size 1600x400 with 1 Axes>"
      ]
     },
     "metadata": {},
     "output_type": "display_data"
    }
   ],
   "source": [
    "time_likes = pd.Series(data = df['likes'].values, index = df['created_at'])\n",
    "time_likes.plot(figsize=(16,4), color ='r')\n",
    "plt.show()"
   ]
  },
  {
   "attachments": {},
   "cell_type": "markdown",
   "metadata": {},
   "source": [
    "Analyse des sentiments des tweets"
   ]
  },
  {
   "cell_type": "code",
   "execution_count": 19,
   "metadata": {},
   "outputs": [],
   "source": [
    "#Récupération des textes des tweets\n",
    "def clean_tweet(tweet):\n",
    "    return ' '.join(re.sub(\"(@[A-Za-z0-9]+)|([^0-9A-Za-z \\t])|(\\w+:\\/\\/\\S+)\", \" \", tweet).split())"
   ]
  },
  {
   "cell_type": "code",
   "execution_count": 20,
   "metadata": {},
   "outputs": [],
   "source": [
    "#Analyse des sentiments\n",
    "def analysis_sentiment(tweet):\n",
    "    analysis = TextBlob(clean_tweet(tweet))\n",
    "\n",
    "    if analysis.sentiment.polarity > 0: \n",
    "        return 1\n",
    "    elif analysis.sentiment.polarity == 0: \n",
    "        return 0\n",
    "    else : \n",
    "        return -1"
   ]
  },
  {
   "attachments": {},
   "cell_type": "markdown",
   "metadata": {},
   "source": [
    "Ajout des données de l'analyses des sentiments au DataFrame"
   ]
  },
  {
   "cell_type": "code",
   "execution_count": 22,
   "metadata": {},
   "outputs": [],
   "source": [
    "df['sentiment'] = np.array([analysis_sentiment(tweet) for tweet in df['Tweet']])"
   ]
  },
  {
   "attachments": {},
   "cell_type": "markdown",
   "metadata": {},
   "source": [
    "Export du DataFrame en excel"
   ]
  },
  {
   "cell_type": "code",
   "execution_count": null,
   "metadata": {},
   "outputs": [],
   "source": [
    "print(df)\n",
    "df.to_excel(r'D:\\maxim\\Documents\\Projects\\CollecteDesDonnees\\Twitter\\UserKeywordsGPT.xlsx', index=False)"
   ]
  }
 ],
 "metadata": {
  "kernelspec": {
   "display_name": "Python 3",
   "language": "python",
   "name": "python3"
  },
  "language_info": {
   "codemirror_mode": {
    "name": "ipython",
    "version": 3
   },
   "file_extension": ".py",
   "mimetype": "text/x-python",
   "name": "python",
   "nbconvert_exporter": "python",
   "pygments_lexer": "ipython3",
   "version": "3.11.0"
  },
  "orig_nbformat": 4,
  "vscode": {
   "interpreter": {
    "hash": "2a805c939253dd78ab80805c33908398d8b908c1d768f626811873916a950a6f"
   }
  }
 },
 "nbformat": 4,
 "nbformat_minor": 2
}
