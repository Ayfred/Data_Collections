{
 "cells": [
  {
   "attachments": {},
   "cell_type": "markdown",
   "metadata": {},
   "source": [
    "Imports des bibliothèques"
   ]
  },
  {
   "cell_type": "code",
   "execution_count": 25,
   "metadata": {},
   "outputs": [],
   "source": [
    "from googleapiclient.discovery import build\n",
    "import json"
   ]
  },
  {
   "attachments": {},
   "cell_type": "markdown",
   "metadata": {},
   "source": [
    "API keys credentials"
   ]
  },
  {
   "cell_type": "code",
   "execution_count": 26,
   "metadata": {},
   "outputs": [],
   "source": [
    "#read credentials\n",
    "f = open('credentials.json')\n",
    "data = json.load(f)\n",
    "f.close()\n",
    "\n",
    "api_key = data['api_key']\n",
    "youtube = build('youtube', 'v3', developerKey = api_key)"
   ]
  },
  {
   "attachments": {},
   "cell_type": "markdown",
   "metadata": {},
   "source": [
    "Recherche youtube"
   ]
  },
  {
   "cell_type": "code",
   "execution_count": 27,
   "metadata": {},
   "outputs": [],
   "source": [
    "request = youtube.search().list(\n",
    "        part=\"snippet\",\n",
    "        maxResults=50,\n",
    "        order=\"viewCount\",\n",
    "        q=\"chatgpt\"\n",
    "    )\n",
    "response = request.execute()"
   ]
  },
  {
   "attachments": {},
   "cell_type": "markdown",
   "metadata": {},
   "source": [
    "Stockage des identifiants des vidéos"
   ]
  },
  {
   "cell_type": "code",
   "execution_count": 28,
   "metadata": {},
   "outputs": [
    {
     "name": "stdout",
     "output_type": "stream",
     "text": [
      "['jPhJbKBuNnA', 'Sqa8Zo2XWc4', 'JTxsNm9IdYU', 'kh5dN72GTQ8', '7uljoeHgN4g', '0uQqMxXoNVs', 'sTeoEFzVNSc', 'rSCNW1OCk_M', '8I3NTE4cn5s', 'Nh5i5obZ8OY', 'WPBWIcprLxc', 'kuTTAuUorsI', 'iWhlrkfJrCQ', 'WizoCwjEKsg', 'JYtZ2zsdE_s', 'K7z0jlE61IM', 'gtgA4u8V_TQ', '_eHjifELI-k', 'wnNp-zT3JmY', 'ng438SIXyW4', 'AXn2XVLf7d0', 'BYGWMArFNRE', 'pOmpqdlVCoo', 'MIdv9ku1TfU', 'kPV4BgmoXz8', 'RCBZ-Xj2dgQ', 'QfrF_rwihyA', 'ey1kHYVu19c', 'kQPUWryXwag', 'AggvJLRqgDg', 'YNEb3EK4rNY', 'CtNsdVtQsf0', 'X6MykhFaP5U', 'Pi-5_eid7VA', 'pc8ftlzB2D0', 'Ku-I7KVmqdw', 'lGSGTrn5INA', 'UNbyT7wPwk4', '1EeYEkrlD8k', 'Fw5ybNwwSbg', '-WSQEyT2Mu0', 'Hrv4UP3wBRg', '40Kp_fa8vIw', 'qLh1GIPBXhc', '5MYJtKx-ebE', 'o5MutYFWsM8', 'y3iLOxBTuy4', '3vr3wcCAZbY', 'W3sk8gPpmcc', 'L6vW0um5XTg']\n"
     ]
    }
   ],
   "source": [
    "list_videos_id = []\n",
    "result_video_length = len(response['items'])\n",
    "\n",
    "for i in range(result_video_length):\n",
    "    list_videos_id.append(response['items'][i]['id']['videoId'])\n",
    "\n",
    "print(list_videos_id)"
   ]
  },
  {
   "attachments": {},
   "cell_type": "markdown",
   "metadata": {},
   "source": [
    "Génération des commentaires youtube de la première vidéo de la liste list_video_id"
   ]
  },
  {
   "cell_type": "code",
   "execution_count": 29,
   "metadata": {},
   "outputs": [],
   "source": [
    "request_comments = youtube.commentThreads().list(\n",
    "        part=\"snippet, replies\",\n",
    "        order=\"relevance\",\n",
    "        videoId= list_videos_id[0], \n",
    "        )\n",
    "response_comments = request_comments.execute()"
   ]
  },
  {
   "attachments": {},
   "cell_type": "markdown",
   "metadata": {},
   "source": [
    "Récupération des données des commentaires et de l'utilisateur"
   ]
  },
  {
   "cell_type": "code",
   "execution_count": 30,
   "metadata": {},
   "outputs": [],
   "source": [
    "videoId = response_comments['items'][0]['snippet']['topLevelComment']['snippet']['videoId']\n",
    "comment = response_comments['items'][0]['snippet']['topLevelComment']['snippet']['textOriginal']\n",
    "author = response_comments['items'][0]['snippet']['topLevelComment']['snippet']['authorDisplayName']\n",
    "authorChannelUrl = response_comments['items'][0]['snippet']['topLevelComment']['snippet']['authorChannelUrl']\n",
    "likeCount = response_comments['items'][0]['snippet']['topLevelComment']['snippet']['likeCount']\n",
    "publishedAt = response_comments['items'][0]['snippet']['topLevelComment']['snippet']['publishedAt']"
   ]
  },
  {
   "attachments": {},
   "cell_type": "markdown",
   "metadata": {},
   "source": [
    "Récupération des réponses aux commentaires et des données utilisateurs"
   ]
  },
  {
   "cell_type": "code",
   "execution_count": 31,
   "metadata": {},
   "outputs": [],
   "source": [
    "replies_response_snippet = response_comments['items'][0]['replies']['comments'][0]['snippet']\n",
    "replies_videoId = replies_response_snippet['videoId']\n",
    "replies_comment = replies_response_snippet['textOriginal']\n",
    "replies_author = replies_response_snippet['authorDisplayName']\n",
    "replies_authorChannelUrl = replies_response_snippet['authorChannelUrl']\n",
    "replies_likeCount = replies_response_snippet['likeCount']\n",
    "replies_publishedAt = replies_response_snippet['publishedAt']"
   ]
  },
  {
   "attachments": {},
   "cell_type": "markdown",
   "metadata": {},
   "source": [
    "Initialisation des listes"
   ]
  },
  {
   "cell_type": "code",
   "execution_count": 32,
   "metadata": {},
   "outputs": [],
   "source": [
    "videoId = []\n",
    "comment = []\n",
    "author = []\n",
    "authorChannelUrl = []\n",
    "likeCount = []\n",
    "publishedAt = []\n",
    "replies_videoId = []\n",
    "replies_comment = []\n",
    "replies_author = []\n",
    "replies_authorChannelUrl = []\n",
    "replies_likeCount = []\n",
    "replies_publishedAt = []"
   ]
  },
  {
   "attachments": {},
   "cell_type": "markdown",
   "metadata": {},
   "source": [
    "Récupération des données"
   ]
  },
  {
   "cell_type": "code",
   "execution_count": 33,
   "metadata": {},
   "outputs": [],
   "source": [
    "for id in list_videos_id:\n",
    "    request_comments = youtube.commentThreads().list(\n",
    "        part=\"snippet, replies\",\n",
    "        order=\"relevance\",\n",
    "        videoId= id, \n",
    "        )\n",
    "    response_comments = request_comments.execute()\n",
    "\n",
    "    nextPageToken = 0\n",
    "    for i in range(5):\n",
    "        nextPageToken = response_comments['nextPageToken']\n",
    "        response_count = len(response_comments['items'])\n",
    "        for j in range(response_count):\n",
    "            response_snippet = response_comments['items'][j]['snippet']['topLevelComment']['snippet']\n",
    "            videoId.append(response_snippet['videoId'])\n",
    "            comment.append(response_snippet['textOriginal'])\n",
    "            author.append(response_snippet['authorDisplayName'])\n",
    "            authorChannelUrl.append(response_snippet['authorChannelUrl'])\n",
    "            likeCount.append(response_snippet['likeCount'])\n",
    "            publishedAt.append(response_snippet['publishedAt'])\n",
    "            if \"replies\" in response_comments['items'][j]:\n",
    "                number_replies = len(response_comments['items'][j]['replies']['comments'])\n",
    "                for k in range(number_replies):\n",
    "                    replies_response_snippet = response_comments['items'][j]['replies']['comments'][k]['snippet']\n",
    "                    replies_videoId.append(replies_response_snippet['videoId'])\n",
    "                    replies_comment.append(replies_response_snippet['textOriginal'])\n",
    "                    replies_author.append(replies_response_snippet['authorDisplayName'])\n",
    "                    replies_authorChannelUrl.append(replies_response_snippet['authorChannelUrl'])\n",
    "                    replies_likeCount.append(replies_response_snippet['likeCount'])\n",
    "                    replies_publishedAt.append(replies_response_snippet['publishedAt'])\n",
    "        request_comments = youtube.commentThreads().list(part=\"snippet, replies\", order=\"relevance\", \n",
    "                                                         videoId=id, pageToken= nextPageToken)\n",
    "        response_comments = request_comments.execute()"
   ]
  },
  {
   "attachments": {},
   "cell_type": "markdown",
   "metadata": {},
   "source": [
    "Création d'un DataFrame pour le stockage de données"
   ]
  },
  {
   "cell_type": "code",
   "execution_count": 34,
   "metadata": {},
   "outputs": [
    {
     "name": "stdout",
     "output_type": "stream",
     "text": [
      "          videoId                                            comment  \\\n",
      "0     jPhJbKBuNnA  It's an opinion piece this week! Been a while ...   \n",
      "1     jPhJbKBuNnA  “I've come up with a set of rules that describ...   \n",
      "2     jPhJbKBuNnA  I was genuinely expecting and terrified that t...   \n",
      "3     jPhJbKBuNnA  “Surprise is just a fancy word for being wrong...   \n",
      "4     jPhJbKBuNnA  My aunt worked for AT&T in the 80s.  I remembe...   \n",
      "...           ...                                                ...   \n",
      "4993  L6vW0um5XTg  This is awesome. And terrifying. I don’t want ...   \n",
      "4994  L6vW0um5XTg  I think you should do a race between two ppl, ...   \n",
      "4995  L6vW0um5XTg  You can have it write scripts in sonic pi, so ...   \n",
      "4996  L6vW0um5XTg  In the end I can prototype that ridiculous ide...   \n",
      "4997  L6vW0um5XTg  I discovered that if ChatGPT stops mid sentenc...   \n",
      "\n",
      "                author                                   authorChannelUrl  \\\n",
      "0            Tom Scott  http://www.youtube.com/channel/UCBa659QWEk1AI4...   \n",
      "1     SmallAdvantages   http://www.youtube.com/channel/UCskEPRzGlsYHs_...   \n",
      "2          SkyKnight34  http://www.youtube.com/channel/UCK7tlnWujz3ZAV...   \n",
      "3       Brandon Miller  http://www.youtube.com/channel/UCOf6tUaLD39bn0...   \n",
      "4             Festyguy  http://www.youtube.com/channel/UCcM-vnGmAHfknb...   \n",
      "...                ...                                                ...   \n",
      "4993   Joseph Turgoose  http://www.youtube.com/channel/UCpPH7Jae9T8Zqv...   \n",
      "4994     Aarav Singhvi  http://www.youtube.com/channel/UCF46ZiHmvGBux8...   \n",
      "4995       luke thomas  http://www.youtube.com/channel/UCD1mCgAK4k7C7O...   \n",
      "4996        LOCKSHADES  http://www.youtube.com/channel/UC7h6z_yzlG_ivG...   \n",
      "4997       Tim Laursen  http://www.youtube.com/channel/UCvp1eP21qR5kST...   \n",
      "\n",
      "      likeCount           publishedAt replies_videoId  \\\n",
      "0          9123  2023-02-08T05:47:56Z     jPhJbKBuNnA   \n",
      "1         10170  2023-02-19T07:16:30Z     jPhJbKBuNnA   \n",
      "2          2078  2023-02-23T20:36:15Z     jPhJbKBuNnA   \n",
      "3          1275  2023-02-21T17:14:50Z     jPhJbKBuNnA   \n",
      "4          1030  2023-02-23T14:29:36Z     jPhJbKBuNnA   \n",
      "...         ...                   ...             ...   \n",
      "4993          4  2022-12-15T20:20:16Z     L6vW0um5XTg   \n",
      "4994          0  2022-12-21T04:43:52Z     L6vW0um5XTg   \n",
      "4995          0  2022-12-15T01:00:17Z     L6vW0um5XTg   \n",
      "4996          0  2022-12-20T18:16:40Z     L6vW0um5XTg   \n",
      "4997          0  2022-12-17T21:46:33Z     L6vW0um5XTg   \n",
      "\n",
      "                                        replies_comment  \\\n",
      "0     Tom, I like your analyses and opinions, and I ...   \n",
      "1                           Playing runescape sense 99.   \n",
      "2                                             Tom scott   \n",
      "3     @Timo Pint All of the VPN providers sell your ...   \n",
      "4                                  Nord sells Data.....   \n",
      "...                                                 ...   \n",
      "4993  @Utkarsh Raj its not? I dont know where you're...   \n",
      "4994                              Palgarised content ☹️   \n",
      "4995  idk. \"/continue\" seems to work better, where i...   \n",
      "4996  lol No, it doesn't work amazing. Y'all must be...   \n",
      "4997  @BenBonk I think the game would be better with...   \n",
      "\n",
      "             replies_author  \\\n",
      "0               HuntingTarg   \n",
      "1                Lone Rider   \n",
      "2              Righteous 2k   \n",
      "3             Alberta Wheat   \n",
      "4                 Timo Pint   \n",
      "...                     ...   \n",
      "4993                16Hertz   \n",
      "4994            Utkarsh Raj   \n",
      "4995            PottyPotato   \n",
      "4996             Eric Bogar   \n",
      "4997  Can't think of a name   \n",
      "\n",
      "                               replies_authorChannelUrl  replies_likeCount  \\\n",
      "0     http://www.youtube.com/channel/UCXBX0IVKvfhgEX...                  1   \n",
      "1     http://www.youtube.com/channel/UC5FqI13wkZKe_A...                  0   \n",
      "2     http://www.youtube.com/channel/UC7jOomH47gzA9T...                  0   \n",
      "3     http://www.youtube.com/channel/UCoEFFOsmzcKLMU...                  0   \n",
      "4     http://www.youtube.com/channel/UCKvMTb60Hs6QIy...                  0   \n",
      "...                                                 ...                ...   \n",
      "4993  http://www.youtube.com/channel/UCVD0yeAGltJuUO...                  6   \n",
      "4994  http://www.youtube.com/channel/UC75xIfqVPr997q...                  3   \n",
      "4995  http://www.youtube.com/channel/UC8p8fOPURjsur_...                  3   \n",
      "4996  http://www.youtube.com/channel/UCycJUVAfiYRRIf...                  1   \n",
      "4997  http://www.youtube.com/channel/UCBdMss9HoOrGwp...                  1   \n",
      "\n",
      "       replies_publishedAt  \n",
      "0     2023-03-06T04:08:33Z  \n",
      "1     2023-03-05T14:00:19Z  \n",
      "2     2023-03-02T23:44:35Z  \n",
      "3     2023-02-28T13:40:33Z  \n",
      "4     2023-02-28T12:52:55Z  \n",
      "...                    ...  \n",
      "4993  2022-12-29T23:43:56Z  \n",
      "4994  2022-12-28T02:47:33Z  \n",
      "4995  2022-12-26T18:00:00Z  \n",
      "4996  2023-01-10T16:51:31Z  \n",
      "4997  2023-01-09T21:13:38Z  \n",
      "\n",
      "[4998 rows x 12 columns]\n"
     ]
    }
   ],
   "source": [
    "import pandas as pd\n",
    "\n",
    "columns=['videoId','comment','author', 'authorChannelUrl', 'likeCount', 'publishedAt', 'replies_videoId', 'replies_comment',\n",
    "                            'replies_author', 'replies_authorChannelUrl', 'replies_likeCount', 'replies_publishedAt']\n",
    "df = pd.DataFrame(list(zip(videoId, comment, author, authorChannelUrl, likeCount, publishedAt, replies_videoId, replies_comment,\n",
    "                            replies_author, replies_authorChannelUrl, replies_likeCount, replies_publishedAt)),\n",
    "                 columns=columns )\n",
    "print(df)"
   ]
  },
  {
   "attachments": {},
   "cell_type": "markdown",
   "metadata": {},
   "source": [
    "Sauvegarde de la DataFrame dans un fichier excel"
   ]
  },
  {
   "cell_type": "code",
   "execution_count": 35,
   "metadata": {},
   "outputs": [],
   "source": [
    "df.to_excel(r'D:\\maxim\\Documents\\Projects\\CollecteDesDonnees\\Youtube\\YoutubeRaw.xlsx', index=False)"
   ]
  },
  {
   "attachments": {},
   "cell_type": "markdown",
   "metadata": {},
   "source": [
    "Sauvegarde de la DataFrame dans un fichier JSON"
   ]
  },
  {
   "cell_type": "code",
   "execution_count": 36,
   "metadata": {},
   "outputs": [],
   "source": [
    "out = df.to_json(orient='records')[1:-1].replace('},{', '} {')\n",
    "\n",
    "with open('youtube_data.json', 'w') as f:\n",
    "    f.write(out)"
   ]
  }
 ],
 "metadata": {
  "kernelspec": {
   "display_name": "Python 3",
   "language": "python",
   "name": "python3"
  },
  "language_info": {
   "codemirror_mode": {
    "name": "ipython",
    "version": 3
   },
   "file_extension": ".py",
   "mimetype": "text/x-python",
   "name": "python",
   "nbconvert_exporter": "python",
   "pygments_lexer": "ipython3",
   "version": "3.11.0"
  },
  "orig_nbformat": 4
 },
 "nbformat": 4,
 "nbformat_minor": 2
}
