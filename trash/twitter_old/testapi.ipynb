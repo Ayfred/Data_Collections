{
 "cells": [
  {
   "attachments": {},
   "cell_type": "markdown",
   "metadata": {},
   "source": [
    "Tweepy is a Python package meant for easy accessing of the Twitter API. Almost all the functionality provided by Twitter API can be used through Tweepy. To install this type the below command in the terminal."
   ]
  },
  {
   "attachments": {},
   "cell_type": "markdown",
   "metadata": {},
   "source": [
    "Pandas is a very powerful framework for data analysis in python. It is built on Numpy Package and its key data structure is a DataFrame where one can manipulate tabular data. To install this type the below command in the terminal."
   ]
  },
  {
   "cell_type": "code",
   "execution_count": null,
   "metadata": {},
   "outputs": [],
   "source": [
    "import tweepy\n",
    "import pandas as pd\n",
    "import time"
   ]
  },
  {
   "cell_type": "code",
   "execution_count": null,
   "metadata": {},
   "outputs": [],
   "source": [
    "\n",
    "consumer_key = \"OZCcR4AMZkQUBWfd7AzV4gZJ9\" #Your API/Consumer key \n",
    "consumer_secret = \"TWw2tWYFhsgqAEkOcr68BZRZN2Hqq7Etr5l5jaBuPOKqqMF8Gk\" #Your API/Consumer Secret Key\n",
    "access_token = \"2149296548-poLAVAiA9144SOGHy3bOwaGVNX0pGvYh98Avhkh\"    #Your Access token key\n",
    "access_token_secret = \"BQyr8K2d59RV2B646q3ZmphXL5Xw3a25Gt04kBXCCCc7u\" #Your Access token Secret key"
   ]
  },
  {
   "cell_type": "code",
   "execution_count": null,
   "metadata": {},
   "outputs": [],
   "source": [
    "#Pass in our twitter API authentication key\n",
    "auth = tweepy.OAuth1UserHandler(\n",
    "    consumer_key, consumer_secret,\n",
    "    access_token, access_token_secret\n",
    ")"
   ]
  },
  {
   "cell_type": "code",
   "execution_count": null,
   "metadata": {},
   "outputs": [],
   "source": [
    "#Instantiate the tweepy API\n",
    "api = tweepy.API(auth, wait_on_rate_limit=True)\n",
    "\n",
    "\n",
    "username = \"john\"\n",
    "no_of_tweets =10\n",
    "\n",
    "\n",
    "try:\n",
    "    #The number of tweets we want to retrieved from the user\n",
    "    tweets = api.user_timeline(screen_name=username, count=no_of_tweets)\n",
    "    \n",
    "    #Pulling Some attributes from the tweet\n",
    "    attributes_container = [[tweet.created_at, tweet.favorite_count,tweet.source,  tweet.text] for tweet in tweets]\n",
    "\n",
    "    #Creation of column list to rename the columns in the dataframe\n",
    "    columns = [\"Date Created\", \"Number of Likes\", \"Source of Tweet\", \"Tweet\"]\n",
    "    \n",
    "    #Creation of Dataframe\n",
    "    tweets_df = pd.DataFrame(attributes_container, columns=columns)\n",
    "except BaseException as e:\n",
    "    print('Status Failed On,',str(e))\n",
    "    time.sleep(3)"
   ]
  },
  {
   "cell_type": "code",
   "execution_count": 5,
   "metadata": {},
   "outputs": [
    {
     "name": "stdout",
     "output_type": "stream",
     "text": [
      "               Date Created  Number of Likes     Source of Tweet  \\\n",
      "0 2023-02-12 18:21:37+00:00                8  Twitter for iPhone   \n",
      "1 2023-02-12 18:20:57+00:00                2  Twitter for iPhone   \n",
      "2 2023-02-12 18:02:01+00:00               95  Twitter for iPhone   \n",
      "3 2023-02-11 15:36:42+00:00               33     Twitter Web App   \n",
      "4 2023-02-09 09:45:45+00:00                0  Twitter for iPhone   \n",
      "5 2023-02-08 02:56:54+00:00                9  Twitter for iPhone   \n",
      "6 2023-02-08 02:31:00+00:00               52  Twitter for iPhone   \n",
      "7 2023-02-03 14:16:17+00:00                5  Twitter for iPhone   \n",
      "8 2023-02-03 01:58:42+00:00                7  Twitter for iPhone   \n",
      "9 2023-01-30 19:07:44+00:00               76  Twitter for iPhone   \n",
      "\n",
      "                                               Tweet  \n",
      "0                               @patrickbetdavid nah  \n",
      "1  @BigTalkMMA Happy to meet you too. Hope you ha...  \n",
      "2  Bottled Blonde in Scottsdale, AZ with the team...  \n",
      "3  @stevewilldoit @happydad i agree.. a ton of st...  \n",
      "4       RT @happydad: woah 👀 https://t.co/xNbJcljXxq  \n",
      "5                @ZachHyatt___ @happydad summer 2023  \n",
      "6  @KEEMSTAR Thank you for the link and thank you...  \n",
      "7                             @patrickbetdavid facts  \n",
      "8                      @ModifiedVirus @happydad ♥️♥️  \n",
      "9            This is insane. https://t.co/NUzkjYUc60  \n"
     ]
    }
   ],
   "source": [
    "print(tweets_df)"
   ]
  },
  {
   "cell_type": "code",
   "execution_count": 6,
   "metadata": {},
   "outputs": [],
   "source": [
    "no_of_tweets =100\n",
    "username = \"yunusaydar\""
   ]
  },
  {
   "cell_type": "code",
   "execution_count": 7,
   "metadata": {},
   "outputs": [
    {
     "name": "stdout",
     "output_type": "stream",
     "text": [
      "         Name Desc       Loc  Friends Hashtag\n",
      "0  yunusaydar       istanbul       16      []\n",
      "1  yunusaydar       istanbul       16      []\n",
      "2  yunusaydar       istanbul       16      []\n",
      "3  yunusaydar       istanbul       16      []\n",
      "4  yunusaydar       istanbul       16      []\n",
      "5  yunusaydar       istanbul       16      []\n",
      "6  yunusaydar       istanbul       16      []\n",
      "7  yunusaydar       istanbul       16      []\n",
      "8  yunusaydar       istanbul       16      []\n"
     ]
    }
   ],
   "source": [
    "try:\n",
    "    #The number of tweets we want to retrieved from the user\n",
    "    tweets = api.user_timeline(screen_name=username, count=no_of_tweets)\n",
    "    \n",
    "    #Pulling Some attributes from the tweet\n",
    "    attributes_container = [[tweet.user.screen_name, tweet.user.description,tweet.user.location,  tweet.user.friends_count, tweet.entities['hashtags']] for tweet in tweets]\n",
    "\n",
    "    #Creation of column list to rename the columns in the dataframe\n",
    "    columns = [\"Name\", \"Desc\", \"Loc\", \"Friends\", \"Hashtag\"]\n",
    "    \n",
    "    #Creation of Dataframe\n",
    "    tweets_df = pd.DataFrame(attributes_container, columns=columns)\n",
    "except BaseException as e:\n",
    "    print('Status Failed On,',str(e))\n",
    "    time.sleep(3)\n",
    "\n",
    "print(tweets_df)"
   ]
  },
  {
   "cell_type": "code",
   "execution_count": 8,
   "metadata": {},
   "outputs": [],
   "source": [
    "no_of_tweets =100"
   ]
  },
  {
   "cell_type": "code",
   "execution_count": 9,
   "metadata": {},
   "outputs": [
    {
     "name": "stdout",
     "output_type": "stream",
     "text": [
      "         Name Hashtag\n",
      "0  yunusaydar      []\n",
      "1  yunusaydar      []\n",
      "2  yunusaydar      []\n",
      "3  yunusaydar      []\n",
      "4  yunusaydar      []\n",
      "5  yunusaydar      []\n",
      "6  yunusaydar      []\n",
      "7  yunusaydar      []\n",
      "8  yunusaydar      []\n"
     ]
    }
   ],
   "source": [
    "try:\n",
    "    #The number of tweets we want to retrieved from the user\n",
    "    tweets = api.user_timeline(screen_name=username, count=no_of_tweets)\n",
    "    \n",
    "    #Pulling Some attributes from the tweet\n",
    "    attributes_container = [[tweet.user.screen_name, tweet.entities['hashtags']] for tweet in tweets]\n",
    "\n",
    "    #Creation of column list to rename the columns in the dataframe\n",
    "    columns = [\"Name\", \"Hashtag\"]\n",
    "    \n",
    "    #Creation of Dataframe\n",
    "    tweets_df = pd.DataFrame(attributes_container, columns=columns)\n",
    "except BaseException as e:\n",
    "    print('Status Failed On,',str(e))\n",
    "    time.sleep(3)\n",
    "\n",
    "print(tweets_df)"
   ]
  },
  {
   "cell_type": "code",
   "execution_count": null,
   "metadata": {},
   "outputs": [],
   "source": [
    "db = pd.DataFrame(columns=['username',                                'description',\n",
    "                            'location',\n",
    "                           'following',\n",
    "                           'followers',\n",
    "                           'totaltweets',\n",
    "                           'retweetcount',\n",
    "                           'text',\n",
    "                           'hashtags'])\n"
   ]
  },
  {
   "cell_type": "code",
   "execution_count": 19,
   "metadata": {},
   "outputs": [],
   "source": [
    "list_tweets = [tweet for tweet in tweets]"
   ]
  },
  {
   "cell_type": "code",
   "execution_count": 23,
   "metadata": {},
   "outputs": [],
   "source": [
    "for tweet in list_tweets:\n",
    "    username = tweet.user.screen_name\n",
    "    description = tweet.user.description\n",
    "    #location = tweet.user.location\n",
    "    #following = tweet.user.friends_count\n",
    "    #followers = tweet.user.followers_count\n",
    "    #totaltweets = tweet.user.statuses_count\n",
    "    #retweetcount = tweet.retweet_count\n",
    "    hashtags = tweet.entities['hashtags']\n",
    "\n",
    "    try:\n",
    "        text = tweet.retweeted_status\n",
    "    except AttributeError:\n",
    "        text = tweet\n",
    "    hashtext = list()\n",
    "    for j in range(0, len(hashtags)):\n",
    "        hashtext.append(hashtags[j]['text'])"
   ]
  },
  {
   "cell_type": "code",
   "execution_count": 17,
   "metadata": {},
   "outputs": [
    {
     "ename": "AttributeError",
     "evalue": "'Status' object has no attribute 'full_text'",
     "output_type": "error",
     "traceback": [
      "\u001b[1;31m---------------------------------------------------------------------------\u001b[0m",
      "\u001b[1;31mAttributeError\u001b[0m                            Traceback (most recent call last)",
      "Cell \u001b[1;32mIn[17], line 2\u001b[0m\n\u001b[0;32m      1\u001b[0m \u001b[39mtry\u001b[39;00m:\n\u001b[1;32m----> 2\u001b[0m     text \u001b[39m=\u001b[39m tweet\u001b[39m.\u001b[39;49mretweeted_status\u001b[39m.\u001b[39;49mfull_text\n\u001b[0;32m      3\u001b[0m \u001b[39mexcept\u001b[39;00m \u001b[39mAttributeError\u001b[39;00m:\n",
      "\u001b[1;31mAttributeError\u001b[0m: 'Status' object has no attribute 'full_text'",
      "\nDuring handling of the above exception, another exception occurred:\n",
      "\u001b[1;31mAttributeError\u001b[0m                            Traceback (most recent call last)",
      "Cell \u001b[1;32mIn[17], line 4\u001b[0m\n\u001b[0;32m      2\u001b[0m     text \u001b[39m=\u001b[39m tweet\u001b[39m.\u001b[39mretweeted_status\u001b[39m.\u001b[39mfull_text\n\u001b[0;32m      3\u001b[0m \u001b[39mexcept\u001b[39;00m \u001b[39mAttributeError\u001b[39;00m:\n\u001b[1;32m----> 4\u001b[0m     text \u001b[39m=\u001b[39m tweet\u001b[39m.\u001b[39;49mfull_text\n\u001b[0;32m      5\u001b[0m     hashtext \u001b[39m=\u001b[39m \u001b[39mlist\u001b[39m()\n\u001b[0;32m      6\u001b[0m \u001b[39mfor\u001b[39;00m j \u001b[39min\u001b[39;00m \u001b[39mrange\u001b[39m(\u001b[39m0\u001b[39m, \u001b[39mlen\u001b[39m(hashtags)):\n",
      "\u001b[1;31mAttributeError\u001b[0m: 'Status' object has no attribute 'full_text'"
     ]
    }
   ],
   "source": []
  },
  {
   "cell_type": "code",
   "execution_count": null,
   "metadata": {},
   "outputs": [],
   "source": []
  },
  {
   "cell_type": "code",
   "execution_count": null,
   "metadata": {},
   "outputs": [],
   "source": []
  },
  {
   "cell_type": "code",
   "execution_count": null,
   "metadata": {},
   "outputs": [],
   "source": []
  },
  {
   "cell_type": "code",
   "execution_count": null,
   "metadata": {},
   "outputs": [],
   "source": []
  },
  {
   "cell_type": "code",
   "execution_count": null,
   "metadata": {},
   "outputs": [],
   "source": []
  }
 ],
 "metadata": {
  "kernelspec": {
   "display_name": "Python 3",
   "language": "python",
   "name": "python3"
  },
  "language_info": {
   "codemirror_mode": {
    "name": "ipython",
    "version": 3
   },
   "file_extension": ".py",
   "mimetype": "text/x-python",
   "name": "python",
   "nbconvert_exporter": "python",
   "pygments_lexer": "ipython3",
   "version": "3.11.0"
  },
  "orig_nbformat": 4,
  "vscode": {
   "interpreter": {
    "hash": "2a805c939253dd78ab80805c33908398d8b908c1d768f626811873916a950a6f"
   }
  }
 },
 "nbformat": 4,
 "nbformat_minor": 2
}
