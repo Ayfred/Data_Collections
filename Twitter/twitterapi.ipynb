{
 "cells": [
  {
   "attachments": {},
   "cell_type": "markdown",
   "metadata": {},
   "source": [
    "Installation des bibliothèques"
   ]
  },
  {
   "cell_type": "code",
   "execution_count": null,
   "metadata": {},
   "outputs": [],
   "source": [
    "!pip install tweepy --upgrade\n",
    "!pip install pandas --upgrade\n",
    "!pip install openpyxl --upgrade\n",
    "!pip install textblob --upgrade"
   ]
  },
  {
   "attachments": {},
   "cell_type": "markdown",
   "metadata": {},
   "source": [
    "Imports des bibliothèques"
   ]
  },
  {
   "cell_type": "code",
   "execution_count": 1,
   "metadata": {},
   "outputs": [],
   "source": [
    "import tweepy\n",
    "import pandas as pd\n",
    "import json\n",
    "import re\n",
    "import numpy as np\n",
    "from textblob import TextBlob\n",
    "import matplotlib.pyplot as plt"
   ]
  },
  {
   "attachments": {},
   "cell_type": "markdown",
   "metadata": {},
   "source": [
    "API credentials et connection à Twitter"
   ]
  },
  {
   "cell_type": "code",
   "execution_count": 2,
   "metadata": {},
   "outputs": [],
   "source": [
    "#read credentials\n",
    "f = open('credentials.json')\n",
    "data = json.load(f)\n",
    "f.close()\n",
    "\n",
    "consumer_key = data[\"consumer_key\"] #Your API/Consumer key \n",
    "consumer_secret = data[\"consumer_secret\"] #Your API/Consumer Secret Key\n",
    "access_token = data[\"access_token\"]    #Your Access token key\n",
    "access_token_secret = data[\"access_token_secret\"] #Your Access token Secret key\n",
    "\n",
    "# Connect to twitter API\n",
    "auth = tweepy.OAuth1UserHandler(\n",
    "    consumer_key, consumer_secret,\n",
    "    access_token, access_token_secret\n",
    ")\n",
    "api = tweepy.API(auth, wait_on_rate_limit=True)"
   ]
  },
  {
   "attachments": {},
   "cell_type": "markdown",
   "metadata": {},
   "source": [
    "Recherche par mots clés"
   ]
  },
  {
   "cell_type": "code",
   "execution_count": 3,
   "metadata": {},
   "outputs": [],
   "source": [
    "keywords = 'GPT-3'\n",
    "no_of_tweets = 10000"
   ]
  },
  {
   "attachments": {},
   "cell_type": "markdown",
   "metadata": {},
   "source": [
    "Récupération des tweets en prenant compte des mots clés et de la langue"
   ]
  },
  {
   "cell_type": "code",
   "execution_count": 23,
   "metadata": {},
   "outputs": [
    {
     "name": "stdout",
     "output_type": "stream",
     "text": [
      "               user                                              Tweet  likes  \\\n",
      "0          mirasvit  A #GPT3/#ChatGPT-powered future is here for yo...      0   \n",
      "1     we_arent_here  @Grady_Booch The biggest flaw of GPT3.5 was th...      0   \n",
      "2        _OliviaBot  RT @KirkDBorne: 5 Reasons why Large Language M...      0   \n",
      "3      MartoutaTech  RT @KirkDBorne: 5 Reasons why Large Language M...      0   \n",
      "4         shrivivek  RT @glebich: GPT3 Chat Interface launcher - Im...      0   \n",
      "...             ...                                                ...    ...   \n",
      "8149        SSXman2  RT @efipm: 📌 I just published \\n``The costs an...      0   \n",
      "8150  LivingDataLab  RT @nathanbenaich: On point \\n\\nhttps://t.co/H...      0   \n",
      "8151         genmon  @labenz @levelsio Are there any clues on capac...      0   \n",
      "8152    nicobermond  https://t.co/si1lC0e000, un puissant outil qui...      1   \n",
      "8153       UfiTrust  RT @teachermaticai: Join our launch webinar an...      0   \n",
      "\n",
      "      retweets               source                created_at  \n",
      "0            0            TweetDeck 2023-03-10 10:42:54+00:00  \n",
      "1            0      Twitter Web App 2023-03-10 10:42:54+00:00  \n",
      "2           11  RT #MachineLearning 2023-03-10 10:41:30+00:00  \n",
      "3           11      Twitter Web App 2023-03-10 10:41:21+00:00  \n",
      "4            8      Twitter Web App 2023-03-10 10:35:20+00:00  \n",
      "...        ...                  ...                       ...  \n",
      "8149        18      Twitter Web App 2023-02-28 10:32:19+00:00  \n",
      "8150        27     Twitter for iPad 2023-02-28 10:31:19+00:00  \n",
      "8151         0   Twitter for iPhone 2023-02-28 10:29:10+00:00  \n",
      "8152         0              dlvr.it 2023-02-28 10:28:13+00:00  \n",
      "8153         2      Twitter Web App 2023-02-28 10:26:23+00:00  \n",
      "\n",
      "[8154 rows x 6 columns]\n"
     ]
    }
   ],
   "source": [
    "tweets = tweepy.Cursor(api.search_tweets, q = \"GPT3 lang:en OR lang:fr\", count = no_of_tweets, tweet_mode = 'extended').items(no_of_tweets)\n",
    "\n",
    "data = []\n",
    "columns = ['user', 'Tweet', 'likes', 'retweets', 'source', 'created_at']\n",
    "\n",
    "for tweet in tweets : \n",
    "    data.append([tweet.user.screen_name, tweet.full_text, tweet.favorite_count, tweet.retweet_count, tweet.source, tweet.created_at])\n",
    "\n",
    "df = pd.DataFrame(data, columns = columns)\n",
    "print(df)"
   ]
  },
  {
   "cell_type": "code",
   "execution_count": 24,
   "metadata": {},
   "outputs": [],
   "source": [
    "df_copy = df.copy()"
   ]
  },
  {
   "cell_type": "code",
   "execution_count": 44,
   "metadata": {},
   "outputs": [],
   "source": [
    "df = df_copy.copy()"
   ]
  },
  {
   "cell_type": "code",
   "execution_count": 39,
   "metadata": {},
   "outputs": [
    {
     "name": "stdout",
     "output_type": "stream",
     "text": [
      "               user                                              Tweet  likes  \\\n",
      "0          mirasvit  A #GPT3/#ChatGPT-powered future is here for yo...      0   \n",
      "1     we_arent_here  @Grady_Booch The biggest flaw of GPT3.5 was th...      0   \n",
      "2        _OliviaBot  RT @KirkDBorne: 5 Reasons why Large Language M...      0   \n",
      "3      MartoutaTech  RT @KirkDBorne: 5 Reasons why Large Language M...      0   \n",
      "4         shrivivek  RT @glebich: GPT3 Chat Interface launcher - Im...      0   \n",
      "...             ...                                                ...    ...   \n",
      "8149        SSXman2  RT @efipm: 📌 I just published \\n``The costs an...      0   \n",
      "8150  LivingDataLab  RT @nathanbenaich: On point \\n\\nhttps://t.co/H...      0   \n",
      "8151         genmon  @labenz @levelsio Are there any clues on capac...      0   \n",
      "8152    nicobermond  https://t.co/si1lC0e000, un puissant outil qui...      1   \n",
      "8153       UfiTrust  RT @teachermaticai: Join our launch webinar an...      0   \n",
      "\n",
      "      retweets               source                created_at  \n",
      "0            0            TweetDeck 2023-03-10 10:42:54+00:00  \n",
      "1            0      Twitter Web App 2023-03-10 10:42:54+00:00  \n",
      "2           11  RT #MachineLearning 2023-03-10 10:41:30+00:00  \n",
      "3           11      Twitter Web App 2023-03-10 10:41:21+00:00  \n",
      "4            8      Twitter Web App 2023-03-10 10:35:20+00:00  \n",
      "...        ...                  ...                       ...  \n",
      "8149        18      Twitter Web App 2023-02-28 10:32:19+00:00  \n",
      "8150        27     Twitter for iPad 2023-02-28 10:31:19+00:00  \n",
      "8151         0   Twitter for iPhone 2023-02-28 10:29:10+00:00  \n",
      "8152         0              dlvr.it 2023-02-28 10:28:13+00:00  \n",
      "8153         2      Twitter Web App 2023-02-28 10:26:23+00:00  \n",
      "\n",
      "[8154 rows x 6 columns]\n"
     ]
    }
   ],
   "source": [
    "print(df)"
   ]
  },
  {
   "attachments": {},
   "cell_type": "markdown",
   "metadata": {},
   "source": [
    "Représentation graphique des j'aimes sur les tweets en lien avec GPT"
   ]
  },
  {
   "cell_type": "code",
   "execution_count": 9,
   "metadata": {},
   "outputs": [
    {
     "data": {
      "image/png": "[encoded data removed]",
      "text/plain": [
       "<Figure size 1600x400 with 1 Axes>"
      ]
     },
     "metadata": {},
     "output_type": "display_data"
    }
   ],
   "source": [
    "time_likes = pd.Series(data = df['likes'].values, index = df['created_at'])\n",
    "time_likes.plot(figsize=(16,4), color ='r')\n",
    "plt.show()"
   ]
  },
  {
   "attachments": {},
   "cell_type": "markdown",
   "metadata": {},
   "source": [
    "Analyse des sentiments des tweets"
   ]
  },
  {
   "cell_type": "code",
   "execution_count": 4,
   "metadata": {},
   "outputs": [],
   "source": [
    "#Récupération des textes des tweets\n",
    "def clean_tweet(tweet):\n",
    "    return ' '.join(re.sub(\"(@[A-Za-z0-9]+)|([^0-9A-Za-z \\t])|(\\w+:\\/\\/\\S+)\", \" \", tweet).split())"
   ]
  },
  {
   "cell_type": "code",
   "execution_count": 6,
   "metadata": {},
   "outputs": [],
   "source": [
    "#Analyse des sentiments\n",
    "def analysis_sentiment(tweet):\n",
    "    analysis = TextBlob(clean_tweet(tweet))\n",
    "\n",
    "    if analysis.sentiment.polarity > 0: \n",
    "        return 1\n",
    "    elif analysis.sentiment.polarity == 0: \n",
    "        return 0\n",
    "    else : \n",
    "        return -1"
   ]
  },
  {
   "attachments": {},
   "cell_type": "markdown",
   "metadata": {},
   "source": [
    "Ajout des données de l'analyses des sentiments au DataFrame"
   ]
  },
  {
   "cell_type": "code",
   "execution_count": 45,
   "metadata": {},
   "outputs": [],
   "source": [
    "df['sentiment'] = np.array([analysis_sentiment(tweet) for tweet in df['Tweet']])"
   ]
  },
  {
   "cell_type": "code",
   "execution_count": 43,
   "metadata": {},
   "outputs": [
    {
     "name": "stdout",
     "output_type": "stream",
     "text": [
      "               user                                              Tweet  likes  \\\n",
      "0          mirasvit  A #GPT3/#ChatGPT-powered future is here for yo...      0   \n",
      "1     we_arent_here  @Grady_Booch The biggest flaw of GPT3.5 was th...      0   \n",
      "2        _OliviaBot  RT @KirkDBorne: 5 Reasons why Large Language M...      0   \n",
      "3      MartoutaTech  RT @KirkDBorne: 5 Reasons why Large Language M...      0   \n",
      "4         shrivivek  RT @glebich: GPT3 Chat Interface launcher - Im...      0   \n",
      "...             ...                                                ...    ...   \n",
      "8149        SSXman2  RT @efipm: 📌 I just published \\n``The costs an...      0   \n",
      "8150  LivingDataLab  RT @nathanbenaich: On point \\n\\nhttps://t.co/H...      0   \n",
      "8151         genmon  @labenz @levelsio Are there any clues on capac...      0   \n",
      "8152    nicobermond  https://t.co/si1lC0e000, un puissant outil qui...      1   \n",
      "8153       UfiTrust  RT @teachermaticai: Join our launch webinar an...      0   \n",
      "\n",
      "      retweets               source created_at  sentiment  \n",
      "0            0            TweetDeck 2022-02-28          1  \n",
      "1            0      Twitter Web App 2023-03-15          1  \n",
      "2           11  RT #MachineLearning        NaT          1  \n",
      "3           11      Twitter Web App        NaT          1  \n",
      "4            8      Twitter Web App        NaT          0  \n",
      "...        ...                  ...        ...        ...  \n",
      "8149        18      Twitter Web App        NaT          0  \n",
      "8150        27     Twitter for iPad        NaT          0  \n",
      "8151         0   Twitter for iPhone        NaT          1  \n",
      "8152         0              dlvr.it        NaT          0  \n",
      "8153         2      Twitter Web App        NaT          0  \n",
      "\n",
      "[8154 rows x 7 columns]\n"
     ]
    }
   ],
   "source": [
    "print(df)"
   ]
  },
  {
   "attachments": {},
   "cell_type": "markdown",
   "metadata": {},
   "source": [
    "Export du DataFrame en excel"
   ]
  },
  {
   "cell_type": "code",
   "execution_count": 46,
   "metadata": {},
   "outputs": [],
   "source": [
    "# Create a sample DataFrame with datetime values\n",
    "#df['created_at'] = pd.DataFrame({'created_at': [pd.Timestamp('2022-02-28'), pd.Timestamp('2023-03-15')]})\n",
    "\n",
    "# Define a custom datetime format\n",
    "datetime_format = '%Y-%m-%d %H:%M:%S'\n",
    "\n",
    "# Convert the datetime values to strings with the custom format\n",
    "df['created_at'] = df['created_at'].apply(lambda x: x.strftime(datetime_format))"
   ]
  },
  {
   "cell_type": "code",
   "execution_count": 47,
   "metadata": {},
   "outputs": [
    {
     "name": "stdout",
     "output_type": "stream",
     "text": [
      "               user                                              Tweet  likes  \\\n",
      "0          mirasvit  A #GPT3/#ChatGPT-powered future is here for yo...      0   \n",
      "1     we_arent_here  @Grady_Booch The biggest flaw of GPT3.5 was th...      0   \n",
      "2        _OliviaBot  RT @KirkDBorne: 5 Reasons why Large Language M...      0   \n",
      "3      MartoutaTech  RT @KirkDBorne: 5 Reasons why Large Language M...      0   \n",
      "4         shrivivek  RT @glebich: GPT3 Chat Interface launcher - Im...      0   \n",
      "...             ...                                                ...    ...   \n",
      "8149        SSXman2  RT @efipm: 📌 I just published \\n``The costs an...      0   \n",
      "8150  LivingDataLab  RT @nathanbenaich: On point \\n\\nhttps://t.co/H...      0   \n",
      "8151         genmon  @labenz @levelsio Are there any clues on capac...      0   \n",
      "8152    nicobermond  https://t.co/si1lC0e000, un puissant outil qui...      1   \n",
      "8153       UfiTrust  RT @teachermaticai: Join our launch webinar an...      0   \n",
      "\n",
      "      retweets               source           created_at  sentiment  \n",
      "0            0            TweetDeck  2023-03-10 10:42:54          1  \n",
      "1            0      Twitter Web App  2023-03-10 10:42:54          1  \n",
      "2           11  RT #MachineLearning  2023-03-10 10:41:30          1  \n",
      "3           11      Twitter Web App  2023-03-10 10:41:21          1  \n",
      "4            8      Twitter Web App  2023-03-10 10:35:20          0  \n",
      "...        ...                  ...                  ...        ...  \n",
      "8149        18      Twitter Web App  2023-02-28 10:32:19          0  \n",
      "8150        27     Twitter for iPad  2023-02-28 10:31:19          0  \n",
      "8151         0   Twitter for iPhone  2023-02-28 10:29:10          1  \n",
      "8152         0              dlvr.it  2023-02-28 10:28:13          0  \n",
      "8153         2      Twitter Web App  2023-02-28 10:26:23          0  \n",
      "\n",
      "[8154 rows x 7 columns]\n"
     ]
    }
   ],
   "source": [
    "print(df)\n"
   ]
  },
  {
   "cell_type": "code",
   "execution_count": 48,
   "metadata": {},
   "outputs": [],
   "source": [
    "df.to_excel(r'D:\\maxim\\Documents\\Projects\\CollecteDesDonnees\\Twitter\\UserKeywordsGPT.xlsx', index=False)"
   ]
  }
 ],
 "metadata": {
  "kernelspec": {
   "display_name": "Python 3",
   "language": "python",
   "name": "python3"
  },
  "language_info": {
   "codemirror_mode": {
    "name": "ipython",
    "version": 3
   },
   "file_extension": ".py",
   "mimetype": "text/x-python",
   "name": "python",
   "nbconvert_exporter": "python",
   "pygments_lexer": "ipython3",
   "version": "3.11.0"
  },
  "orig_nbformat": 4,
  "vscode": {
   "interpreter": {
    "hash": "2a805c939253dd78ab80805c33908398d8b908c1d768f626811873916a950a6f"
   }
  }
 },
 "nbformat": 4,
 "nbformat_minor": 2
}
