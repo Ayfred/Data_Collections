{
 "cells": [
  {
   "cell_type": "code",
   "execution_count": 1,
   "metadata": {},
   "outputs": [],
   "source": [
    "import pandas as pd\n",
    "from pymongo import MongoClient\n",
    "import json\n",
    "import pymongo"
   ]
  },
  {
   "cell_type": "code",
   "execution_count": 2,
   "metadata": {},
   "outputs": [],
   "source": [
    "collection_name = 'mycollection'\n",
    "file_path = 'Twitter/UserKeywordsGPT.xlsx'"
   ]
  },
  {
   "cell_type": "code",
   "execution_count": 15,
   "metadata": {},
   "outputs": [],
   "source": [
    "client = pymongo.MongoClient('127.0.0.1:27017')\n",
    "db = client['webscraping']\n",
    "\n",
    "# Read XLSX file into a Pandas DataFrame\n",
    "df = pd.read_excel(file_path)\n",
    "\n",
    "# Convert DataFrame to a list of dictionaries (one for each row)\n",
    "data = df.to_dict('records')\n",
    "\n",
    "# Insert data into MongoDB collection\n",
    "collection = db[collection_name]\n",
    "collection.insert_many(data)\n",
    "\n",
    "# Close MongoDB connection\n",
    "client.close()"
   ]
  },
  {
   "cell_type": "code",
   "execution_count": 3,
   "metadata": {},
   "outputs": [],
   "source": [
    "JSONfile = 'Youtube/testYoutube.json'"
   ]
  },
  {
   "cell_type": "code",
   "execution_count": 24,
   "metadata": {},
   "outputs": [],
   "source": [
    "import json\n",
    "from pymongo import MongoClient\n",
    "\n",
    "# Connect to MongoDB database\n",
    "client = pymongo.MongoClient('127.0.0.1:27017')\n",
    "db = client['webscraping']\n",
    "\n",
    "# Read JSON file and parse into a Python dictionary\n",
    "with open(JSONfile) as f:\n",
    "    data = json.load(f)\n",
    "\n",
    "# Insert data into MongoDB collection\n",
    "collection = db['youtubeData']\n",
    "collection.insert_one(data)\n",
    "\n",
    "# Close MongoDB connection\n",
    "client.close()"
   ]
  },
  {
   "cell_type": "code",
   "execution_count": null,
   "metadata": {},
   "outputs": [],
   "source": []
  }
 ],
 "metadata": {
  "kernelspec": {
   "display_name": "Python 3 (ipykernel)",
   "language": "python",
   "name": "python3"
  },
  "language_info": {
   "codemirror_mode": {
    "name": "ipython",
    "version": 3
   },
   "file_extension": ".py",
   "mimetype": "text/x-python",
   "name": "python",
   "nbconvert_exporter": "python",
   "pygments_lexer": "ipython3",
   "version": "3.11.0"
  }
 },
 "nbformat": 4,
 "nbformat_minor": 2
}
